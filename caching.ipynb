{
 "metadata": {
  "language_info": {
   "codemirror_mode": {
    "name": "ipython",
    "version": 3
   },
   "file_extension": ".py",
   "mimetype": "text/x-python",
   "name": "python",
   "nbconvert_exporter": "python",
   "pygments_lexer": "ipython3",
   "version": "3.8.5"
  },
  "orig_nbformat": 4,
  "kernelspec": {
   "name": "python3",
   "display_name": "Python 3.8.5 64-bit ('rltrader_env': venv)"
  },
  "interpreter": {
   "hash": "8e2992cd1537a0ce0fcfbbc90dae1b0e6789ae476b7bf9d031acd3fda788ff6d"
  }
 },
 "nbformat": 4,
 "nbformat_minor": 2,
 "cells": [
  {
   "cell_type": "code",
   "execution_count": 1,
   "metadata": {},
   "outputs": [],
   "source": [
    "%load_ext autoreload\n",
    "%autoreload 2"
   ]
  },
  {
   "cell_type": "code",
   "execution_count": 2,
   "metadata": {},
   "outputs": [
    {
     "output_type": "stream",
     "name": "stderr",
     "text": [
      "/usr/lib/python3/dist-packages/dask/dataframe/utils.py:14: FutureWarning: pandas.util.testing is deprecated. Use the functions in the public API at pandas.testing instead.\n  import pandas.util.testing as tm\n"
     ]
    }
   ],
   "source": [
    "import pandas as pd\n",
    "import numpy as np\n",
    "import dask.dataframe as dd\n",
    "\n",
    "import data_preprocessing as dp\n",
    "\n",
    "from datetime import datetime, timedelta\n",
    "import math\n",
    "import re\n",
    "import multiprocessing as mp"
   ]
  },
  {
   "cell_type": "code",
   "execution_count": 3,
   "metadata": {},
   "outputs": [],
   "source": [
    "frequency = timedelta(seconds=60)\n",
    "pair = 'USDT_BTC'\n",
    "date_start = '2020-11-11'\n",
    "date_end = '2021-03-31'\n",
    "lob_depth = 100\n",
    "norm_type = 'dyn_z_score'\n",
    "roll = 1440*10 # 10 days"
   ]
  },
  {
   "source": [
    "## Cache Data"
   ],
   "cell_type": "markdown",
   "metadata": {}
  },
  {
   "cell_type": "code",
   "execution_count": 4,
   "metadata": {},
   "outputs": [
    {
     "output_type": "execute_result",
     "data": {
      "text/plain": [
       "[('USDT_BTC', '2020-11-11', '2020-12-09', datetime.timedelta(seconds=60), 100),\n",
       " ('USDT_BTC', '2020-12-10', '2021-01-07', datetime.timedelta(seconds=60), 100),\n",
       " ('USDT_BTC', '2021-01-08', '2021-02-05', datetime.timedelta(seconds=60), 100),\n",
       " ('USDT_BTC', '2021-02-06', '2021-03-06', datetime.timedelta(seconds=60), 100),\n",
       " ('USDT_BTC', '2021-03-07', '2021-03-31', datetime.timedelta(seconds=60), 100)]"
      ]
     },
     "metadata": {},
     "execution_count": 4
    }
   ],
   "source": [
    "# prepare inputs for multi processing\n",
    "date_daterange = pd.date_range(date_start, date_end, freq='1D').astype('str').tolist()\n",
    "processes = 5\n",
    "multiple = math.ceil(len(date_daterange) / processes) # round up\n",
    "slice_idx = np.arange(0, len(date_daterange), multiple)\n",
    "date_slices = [date_daterange[i:i+multiple] for i in slice_idx]\n",
    "inputs = [(pair, date_list[0], date_list[-1], frequency, lob_depth) for date_list in date_slices]\n",
    "inputs"
   ]
  },
  {
   "source": [
    "### Caching experiments (prices only - add trades if needed)\n",
    "- with 5, 10 processes or single process"
   ],
   "cell_type": "markdown",
   "metadata": {}
  },
  {
   "cell_type": "code",
   "execution_count": 5,
   "metadata": {
    "tags": []
   },
   "outputs": [],
   "source": [
    "# %%time\n",
    "# # time taken to process 10 file with 5 processes: 4min 20s (60/65% RAM)\n",
    "# with mp.Pool(processes=5) as pool:\n",
    "#     results = pool.starmap(dp.get_lob_data, inputs)"
   ]
  },
  {
   "cell_type": "code",
   "execution_count": 6,
   "metadata": {},
   "outputs": [],
   "source": [
    "# %%time\n",
    "# # time taken to process 10 file with 5 processes: 3min 39s (85/90% RAM)\n",
    "# with mp.Pool(processes=10) as pool:\n",
    "#     results = pool.starmap(dp.get_lob_data, inputs)"
   ]
  },
  {
   "cell_type": "code",
   "execution_count": 7,
   "metadata": {},
   "outputs": [],
   "source": [
    "# %%time\n",
    "# # time taken to process 10 file with 5 processes: Wall time: 17min 41s (20% RAM)\n",
    "# dp.get_lob_data('USDT_BTC', date_start, date_end, timedelta(seconds=60), 100)"
   ]
  },
  {
   "cell_type": "code",
   "execution_count": null,
   "metadata": {},
   "outputs": [],
   "source": []
  },
  {
   "source": [
    "## Data Normalization"
   ],
   "cell_type": "markdown",
   "metadata": {}
  },
  {
   "source": [
    "#### Import cache"
   ],
   "cell_type": "markdown",
   "metadata": {}
  },
  {
   "cell_type": "code",
   "execution_count": 8,
   "metadata": {
    "tags": [
     "outputPrepend"
    ]
   },
   "outputs": [
    {
     "output_type": "stream",
     "name": "stdout",
     "text": [
      "9.csv.gz\n",
      "Found /home/federico/Python_vsc_dir/RL_Trader/Experiments/resampled/USDT_BTC/100_levels/60s/2021-02-20.csv.gz\n",
      "Found /home/federico/Python_vsc_dir/RL_Trader/Experiments/resampled/USDT_BTC/100_levels/60s/2021-02-21.csv.gz\n",
      "Found /home/federico/Python_vsc_dir/RL_Trader/Experiments/resampled/USDT_BTC/100_levels/60s/2021-02-22.csv.gz\n",
      "Found /home/federico/Python_vsc_dir/RL_Trader/Experiments/resampled/USDT_BTC/100_levels/60s/2021-02-23.csv.gz\n",
      "Found /home/federico/Python_vsc_dir/RL_Trader/Experiments/resampled/USDT_BTC/100_levels/60s/2021-02-24.csv.gz\n",
      "Found /home/federico/Python_vsc_dir/RL_Trader/Experiments/resampled/USDT_BTC/100_levels/60s/2021-02-25.csv.gz\n",
      "Found /home/federico/Python_vsc_dir/RL_Trader/Experiments/resampled/USDT_BTC/100_levels/60s/2021-02-26.csv.gz\n",
      "Found /home/federico/Python_vsc_dir/RL_Trader/Experiments/resampled/USDT_BTC/100_levels/60s/2021-02-27.csv.gz\n",
      "Found /home/federico/Python_vsc_dir/RL_Trader/Experiments/resampled/USDT_BTC/100_levels/60s/2021-02-28.csv.gz\n",
      "Found /home/federico/Python_vsc_dir/RL_Trader/Experiments/resampled/USDT_BTC/100_levels/60s/2021-03-01.csv.gz\n",
      "Found /home/federico/Python_vsc_dir/RL_Trader/Experiments/resampled/USDT_BTC/100_levels/60s/2021-03-02.csv.gz\n",
      "Found /home/federico/Python_vsc_dir/RL_Trader/Experiments/resampled/USDT_BTC/100_levels/60s/2021-03-03.csv.gz\n",
      "Found /home/federico/Python_vsc_dir/RL_Trader/Experiments/resampled/USDT_BTC/100_levels/60s/2021-03-04.csv.gz\n",
      "Found /home/federico/Python_vsc_dir/RL_Trader/Experiments/resampled/USDT_BTC/100_levels/60s/2021-03-05.csv.gz\n",
      "Found /home/federico/Python_vsc_dir/RL_Trader/Experiments/resampled/USDT_BTC/100_levels/60s/2021-03-06.csv.gz\n",
      "Found /home/federico/Python_vsc_dir/RL_Trader/Experiments/resampled/USDT_BTC/100_levels/60s/2021-03-07.csv.gz\n",
      "Found /home/federico/Python_vsc_dir/RL_Trader/Experiments/resampled/USDT_BTC/100_levels/60s/2021-03-08.csv.gz\n",
      "Found /home/federico/Python_vsc_dir/RL_Trader/Experiments/resampled/USDT_BTC/100_levels/60s/2021-03-09.csv.gz\n",
      "Found /home/federico/Python_vsc_dir/RL_Trader/Experiments/resampled/USDT_BTC/100_levels/60s/2021-03-10.csv.gz\n",
      "Found /home/federico/Python_vsc_dir/RL_Trader/Experiments/resampled/USDT_BTC/100_levels/60s/2021-03-11.csv.gz\n",
      "Found /home/federico/Python_vsc_dir/RL_Trader/Experiments/resampled/USDT_BTC/100_levels/60s/2021-03-12.csv.gz\n",
      "Found /home/federico/Python_vsc_dir/RL_Trader/Experiments/resampled/USDT_BTC/100_levels/60s/2021-03-13.csv.gz\n",
      "Found /home/federico/Python_vsc_dir/RL_Trader/Experiments/resampled/USDT_BTC/100_levels/60s/2021-03-14.csv.gz\n",
      "Found /home/federico/Python_vsc_dir/RL_Trader/Experiments/resampled/USDT_BTC/100_levels/60s/2021-03-15.csv.gz\n",
      "Found /home/federico/Python_vsc_dir/RL_Trader/Experiments/resampled/USDT_BTC/100_levels/60s/2021-03-16.csv.gz\n",
      "Found /home/federico/Python_vsc_dir/RL_Trader/Experiments/resampled/USDT_BTC/100_levels/60s/2021-03-17.csv.gz\n",
      "Found /home/federico/Python_vsc_dir/RL_Trader/Experiments/resampled/USDT_BTC/100_levels/60s/2021-03-18.csv.gz\n",
      "Found /home/federico/Python_vsc_dir/RL_Trader/Experiments/resampled/USDT_BTC/100_levels/60s/2021-03-19.csv.gz\n",
      "Found /home/federico/Python_vsc_dir/RL_Trader/Experiments/resampled/USDT_BTC/100_levels/60s/2021-03-20.csv.gz\n",
      "Found /home/federico/Python_vsc_dir/RL_Trader/Experiments/resampled/USDT_BTC/100_levels/60s/2021-03-21.csv.gz\n",
      "Found /home/federico/Python_vsc_dir/RL_Trader/Experiments/resampled/USDT_BTC/100_levels/60s/2021-03-22.csv.gz\n",
      "Found /home/federico/Python_vsc_dir/RL_Trader/Experiments/resampled/USDT_BTC/100_levels/60s/2021-03-23.csv.gz\n",
      "Found /home/federico/Python_vsc_dir/RL_Trader/Experiments/resampled/USDT_BTC/100_levels/60s/2021-03-24.csv.gz\n",
      "Found /home/federico/Python_vsc_dir/RL_Trader/Experiments/resampled/USDT_BTC/100_levels/60s/2021-03-25.csv.gz\n",
      "Found /home/federico/Python_vsc_dir/RL_Trader/Experiments/resampled/USDT_BTC/100_levels/60s/2021-03-26.csv.gz\n",
      "Found /home/federico/Python_vsc_dir/RL_Trader/Experiments/resampled/USDT_BTC/100_levels/60s/2021-03-27.csv.gz\n",
      "Found /home/federico/Python_vsc_dir/RL_Trader/Experiments/resampled/USDT_BTC/100_levels/60s/2021-03-28.csv.gz\n",
      "Found /home/federico/Python_vsc_dir/RL_Trader/Experiments/resampled/USDT_BTC/100_levels/60s/2021-03-29.csv.gz\n",
      "Found /home/federico/Python_vsc_dir/RL_Trader/Experiments/resampled/USDT_BTC/100_levels/60s/2021-03-30.csv.gz\n",
      "Found /home/federico/Python_vsc_dir/RL_Trader/Experiments/resampled/USDT_BTC/100_levels/60s/2021-03-31.csv.gz\n",
      "/usr/lib/python3/dist-packages/dask/dataframe/io/csv.py:381: UserWarning: Warning gzip compression does not support breaking apart files\n",
      "Please ensure that each individual file can fit in memory and\n",
      "use the keyword ``blocksize=None to remove this message``\n",
      "Setting ``blocksize=None``\n",
      "  warn(\n",
      "Checking for cached trade data from 2020-11-11 to 2021-03-31\n",
      "Found /home/federico/Python_vsc_dir/RL_Trader/Experiments/resampled/USDT_BTC/trades/60s/2020-11-11.csv.gz\n",
      "Found /home/federico/Python_vsc_dir/RL_Trader/Experiments/resampled/USDT_BTC/trades/60s/2020-11-12.csv.gz\n",
      "Found /home/federico/Python_vsc_dir/RL_Trader/Experiments/resampled/USDT_BTC/trades/60s/2020-11-13.csv.gz\n",
      "Found /home/federico/Python_vsc_dir/RL_Trader/Experiments/resampled/USDT_BTC/trades/60s/2020-11-14.csv.gz\n",
      "Found /home/federico/Python_vsc_dir/RL_Trader/Experiments/resampled/USDT_BTC/trades/60s/2020-11-15.csv.gz\n",
      "Found /home/federico/Python_vsc_dir/RL_Trader/Experiments/resampled/USDT_BTC/trades/60s/2020-11-16.csv.gz\n",
      "Found /home/federico/Python_vsc_dir/RL_Trader/Experiments/resampled/USDT_BTC/trades/60s/2020-11-17.csv.gz\n",
      "Found /home/federico/Python_vsc_dir/RL_Trader/Experiments/resampled/USDT_BTC/trades/60s/2020-11-18.csv.gz\n",
      "Found /home/federico/Python_vsc_dir/RL_Trader/Experiments/resampled/USDT_BTC/trades/60s/2020-11-19.csv.gz\n",
      "Found /home/federico/Python_vsc_dir/RL_Trader/Experiments/resampled/USDT_BTC/trades/60s/2020-11-20.csv.gz\n",
      "Found /home/federico/Python_vsc_dir/RL_Trader/Experiments/resampled/USDT_BTC/trades/60s/2020-11-21.csv.gz\n",
      "Found /home/federico/Python_vsc_dir/RL_Trader/Experiments/resampled/USDT_BTC/trades/60s/2020-11-22.csv.gz\n",
      "Found /home/federico/Python_vsc_dir/RL_Trader/Experiments/resampled/USDT_BTC/trades/60s/2020-11-23.csv.gz\n",
      "Found /home/federico/Python_vsc_dir/RL_Trader/Experiments/resampled/USDT_BTC/trades/60s/2020-11-24.csv.gz\n",
      "Found /home/federico/Python_vsc_dir/RL_Trader/Experiments/resampled/USDT_BTC/trades/60s/2020-11-25.csv.gz\n",
      "Found /home/federico/Python_vsc_dir/RL_Trader/Experiments/resampled/USDT_BTC/trades/60s/2020-11-26.csv.gz\n",
      "Found /home/federico/Python_vsc_dir/RL_Trader/Experiments/resampled/USDT_BTC/trades/60s/2020-11-27.csv.gz\n",
      "Found /home/federico/Python_vsc_dir/RL_Trader/Experiments/resampled/USDT_BTC/trades/60s/2020-11-28.csv.gz\n",
      "Found /home/federico/Python_vsc_dir/RL_Trader/Experiments/resampled/USDT_BTC/trades/60s/2020-11-29.csv.gz\n",
      "Found /home/federico/Python_vsc_dir/RL_Trader/Experiments/resampled/USDT_BTC/trades/60s/2020-11-30.csv.gz\n",
      "Found /home/federico/Python_vsc_dir/RL_Trader/Experiments/resampled/USDT_BTC/trades/60s/2020-12-01.csv.gz\n",
      "Found /home/federico/Python_vsc_dir/RL_Trader/Experiments/resampled/USDT_BTC/trades/60s/2020-12-02.csv.gz\n",
      "Found /home/federico/Python_vsc_dir/RL_Trader/Experiments/resampled/USDT_BTC/trades/60s/2020-12-03.csv.gz\n",
      "Found /home/federico/Python_vsc_dir/RL_Trader/Experiments/resampled/USDT_BTC/trades/60s/2020-12-04.csv.gz\n",
      "Found /home/federico/Python_vsc_dir/RL_Trader/Experiments/resampled/USDT_BTC/trades/60s/2020-12-05.csv.gz\n",
      "Found /home/federico/Python_vsc_dir/RL_Trader/Experiments/resampled/USDT_BTC/trades/60s/2020-12-06.csv.gz\n",
      "Found /home/federico/Python_vsc_dir/RL_Trader/Experiments/resampled/USDT_BTC/trades/60s/2020-12-07.csv.gz\n",
      "Found /home/federico/Python_vsc_dir/RL_Trader/Experiments/resampled/USDT_BTC/trades/60s/2020-12-08.csv.gz\n",
      "Found /home/federico/Python_vsc_dir/RL_Trader/Experiments/resampled/USDT_BTC/trades/60s/2020-12-09.csv.gz\n",
      "Found /home/federico/Python_vsc_dir/RL_Trader/Experiments/resampled/USDT_BTC/trades/60s/2020-12-10.csv.gz\n",
      "Found /home/federico/Python_vsc_dir/RL_Trader/Experiments/resampled/USDT_BTC/trades/60s/2020-12-11.csv.gz\n",
      "Found /home/federico/Python_vsc_dir/RL_Trader/Experiments/resampled/USDT_BTC/trades/60s/2020-12-12.csv.gz\n",
      "Found /home/federico/Python_vsc_dir/RL_Trader/Experiments/resampled/USDT_BTC/trades/60s/2020-12-13.csv.gz\n",
      "Found /home/federico/Python_vsc_dir/RL_Trader/Experiments/resampled/USDT_BTC/trades/60s/2020-12-14.csv.gz\n",
      "Found /home/federico/Python_vsc_dir/RL_Trader/Experiments/resampled/USDT_BTC/trades/60s/2020-12-15.csv.gz\n",
      "Found /home/federico/Python_vsc_dir/RL_Trader/Experiments/resampled/USDT_BTC/trades/60s/2020-12-16.csv.gz\n",
      "Found /home/federico/Python_vsc_dir/RL_Trader/Experiments/resampled/USDT_BTC/trades/60s/2020-12-17.csv.gz\n",
      "Found /home/federico/Python_vsc_dir/RL_Trader/Experiments/resampled/USDT_BTC/trades/60s/2020-12-18.csv.gz\n",
      "Found /home/federico/Python_vsc_dir/RL_Trader/Experiments/resampled/USDT_BTC/trades/60s/2020-12-19.csv.gz\n",
      "Found /home/federico/Python_vsc_dir/RL_Trader/Experiments/resampled/USDT_BTC/trades/60s/2020-12-20.csv.gz\n",
      "Found /home/federico/Python_vsc_dir/RL_Trader/Experiments/resampled/USDT_BTC/trades/60s/2020-12-21.csv.gz\n",
      "Found /home/federico/Python_vsc_dir/RL_Trader/Experiments/resampled/USDT_BTC/trades/60s/2020-12-22.csv.gz\n",
      "Found /home/federico/Python_vsc_dir/RL_Trader/Experiments/resampled/USDT_BTC/trades/60s/2020-12-23.csv.gz\n",
      "Found /home/federico/Python_vsc_dir/RL_Trader/Experiments/resampled/USDT_BTC/trades/60s/2020-12-24.csv.gz\n",
      "Found /home/federico/Python_vsc_dir/RL_Trader/Experiments/resampled/USDT_BTC/trades/60s/2020-12-25.csv.gz\n",
      "Found /home/federico/Python_vsc_dir/RL_Trader/Experiments/resampled/USDT_BTC/trades/60s/2020-12-26.csv.gz\n",
      "Found /home/federico/Python_vsc_dir/RL_Trader/Experiments/resampled/USDT_BTC/trades/60s/2020-12-27.csv.gz\n",
      "Found /home/federico/Python_vsc_dir/RL_Trader/Experiments/resampled/USDT_BTC/trades/60s/2020-12-28.csv.gz\n",
      "Found /home/federico/Python_vsc_dir/RL_Trader/Experiments/resampled/USDT_BTC/trades/60s/2020-12-29.csv.gz\n",
      "Found /home/federico/Python_vsc_dir/RL_Trader/Experiments/resampled/USDT_BTC/trades/60s/2020-12-30.csv.gz\n",
      "Found /home/federico/Python_vsc_dir/RL_Trader/Experiments/resampled/USDT_BTC/trades/60s/2020-12-31.csv.gz\n",
      "Found /home/federico/Python_vsc_dir/RL_Trader/Experiments/resampled/USDT_BTC/trades/60s/2021-01-01.csv.gz\n",
      "Found /home/federico/Python_vsc_dir/RL_Trader/Experiments/resampled/USDT_BTC/trades/60s/2021-01-02.csv.gz\n",
      "Found /home/federico/Python_vsc_dir/RL_Trader/Experiments/resampled/USDT_BTC/trades/60s/2021-01-03.csv.gz\n",
      "Found /home/federico/Python_vsc_dir/RL_Trader/Experiments/resampled/USDT_BTC/trades/60s/2021-01-04.csv.gz\n",
      "Found /home/federico/Python_vsc_dir/RL_Trader/Experiments/resampled/USDT_BTC/trades/60s/2021-01-05.csv.gz\n",
      "Found /home/federico/Python_vsc_dir/RL_Trader/Experiments/resampled/USDT_BTC/trades/60s/2021-01-06.csv.gz\n",
      "Found /home/federico/Python_vsc_dir/RL_Trader/Experiments/resampled/USDT_BTC/trades/60s/2021-01-07.csv.gz\n",
      "Found /home/federico/Python_vsc_dir/RL_Trader/Experiments/resampled/USDT_BTC/trades/60s/2021-01-08.csv.gz\n",
      "Found /home/federico/Python_vsc_dir/RL_Trader/Experiments/resampled/USDT_BTC/trades/60s/2021-01-09.csv.gz\n",
      "Found /home/federico/Python_vsc_dir/RL_Trader/Experiments/resampled/USDT_BTC/trades/60s/2021-01-10.csv.gz\n",
      "Found /home/federico/Python_vsc_dir/RL_Trader/Experiments/resampled/USDT_BTC/trades/60s/2021-01-11.csv.gz\n",
      "Found /home/federico/Python_vsc_dir/RL_Trader/Experiments/resampled/USDT_BTC/trades/60s/2021-01-12.csv.gz\n",
      "Found /home/federico/Python_vsc_dir/RL_Trader/Experiments/resampled/USDT_BTC/trades/60s/2021-01-13.csv.gz\n",
      "Found /home/federico/Python_vsc_dir/RL_Trader/Experiments/resampled/USDT_BTC/trades/60s/2021-01-14.csv.gz\n",
      "Found /home/federico/Python_vsc_dir/RL_Trader/Experiments/resampled/USDT_BTC/trades/60s/2021-01-15.csv.gz\n",
      "Found /home/federico/Python_vsc_dir/RL_Trader/Experiments/resampled/USDT_BTC/trades/60s/2021-01-16.csv.gz\n",
      "Found /home/federico/Python_vsc_dir/RL_Trader/Experiments/resampled/USDT_BTC/trades/60s/2021-01-17.csv.gz\n",
      "Found /home/federico/Python_vsc_dir/RL_Trader/Experiments/resampled/USDT_BTC/trades/60s/2021-01-18.csv.gz\n",
      "Found /home/federico/Python_vsc_dir/RL_Trader/Experiments/resampled/USDT_BTC/trades/60s/2021-01-19.csv.gz\n",
      "Found /home/federico/Python_vsc_dir/RL_Trader/Experiments/resampled/USDT_BTC/trades/60s/2021-01-20.csv.gz\n",
      "Found /home/federico/Python_vsc_dir/RL_Trader/Experiments/resampled/USDT_BTC/trades/60s/2021-01-21.csv.gz\n",
      "Found /home/federico/Python_vsc_dir/RL_Trader/Experiments/resampled/USDT_BTC/trades/60s/2021-01-22.csv.gz\n",
      "Found /home/federico/Python_vsc_dir/RL_Trader/Experiments/resampled/USDT_BTC/trades/60s/2021-01-23.csv.gz\n",
      "Found /home/federico/Python_vsc_dir/RL_Trader/Experiments/resampled/USDT_BTC/trades/60s/2021-01-24.csv.gz\n",
      "Found /home/federico/Python_vsc_dir/RL_Trader/Experiments/resampled/USDT_BTC/trades/60s/2021-01-25.csv.gz\n",
      "Found /home/federico/Python_vsc_dir/RL_Trader/Experiments/resampled/USDT_BTC/trades/60s/2021-01-26.csv.gz\n",
      "Found /home/federico/Python_vsc_dir/RL_Trader/Experiments/resampled/USDT_BTC/trades/60s/2021-01-27.csv.gz\n",
      "Found /home/federico/Python_vsc_dir/RL_Trader/Experiments/resampled/USDT_BTC/trades/60s/2021-01-28.csv.gz\n",
      "Found /home/federico/Python_vsc_dir/RL_Trader/Experiments/resampled/USDT_BTC/trades/60s/2021-01-29.csv.gz\n",
      "Found /home/federico/Python_vsc_dir/RL_Trader/Experiments/resampled/USDT_BTC/trades/60s/2021-01-30.csv.gz\n",
      "Found /home/federico/Python_vsc_dir/RL_Trader/Experiments/resampled/USDT_BTC/trades/60s/2021-01-31.csv.gz\n",
      "Found /home/federico/Python_vsc_dir/RL_Trader/Experiments/resampled/USDT_BTC/trades/60s/2021-02-01.csv.gz\n",
      "Found /home/federico/Python_vsc_dir/RL_Trader/Experiments/resampled/USDT_BTC/trades/60s/2021-02-02.csv.gz\n",
      "Found /home/federico/Python_vsc_dir/RL_Trader/Experiments/resampled/USDT_BTC/trades/60s/2021-02-03.csv.gz\n",
      "Found /home/federico/Python_vsc_dir/RL_Trader/Experiments/resampled/USDT_BTC/trades/60s/2021-02-04.csv.gz\n",
      "Found /home/federico/Python_vsc_dir/RL_Trader/Experiments/resampled/USDT_BTC/trades/60s/2021-02-05.csv.gz\n",
      "Found /home/federico/Python_vsc_dir/RL_Trader/Experiments/resampled/USDT_BTC/trades/60s/2021-02-06.csv.gz\n",
      "Found /home/federico/Python_vsc_dir/RL_Trader/Experiments/resampled/USDT_BTC/trades/60s/2021-02-07.csv.gz\n",
      "Found /home/federico/Python_vsc_dir/RL_Trader/Experiments/resampled/USDT_BTC/trades/60s/2021-02-08.csv.gz\n",
      "Found /home/federico/Python_vsc_dir/RL_Trader/Experiments/resampled/USDT_BTC/trades/60s/2021-02-09.csv.gz\n",
      "Found /home/federico/Python_vsc_dir/RL_Trader/Experiments/resampled/USDT_BTC/trades/60s/2021-02-10.csv.gz\n",
      "Found /home/federico/Python_vsc_dir/RL_Trader/Experiments/resampled/USDT_BTC/trades/60s/2021-02-11.csv.gz\n",
      "Found /home/federico/Python_vsc_dir/RL_Trader/Experiments/resampled/USDT_BTC/trades/60s/2021-02-12.csv.gz\n",
      "Found /home/federico/Python_vsc_dir/RL_Trader/Experiments/resampled/USDT_BTC/trades/60s/2021-02-13.csv.gz\n",
      "Found /home/federico/Python_vsc_dir/RL_Trader/Experiments/resampled/USDT_BTC/trades/60s/2021-02-14.csv.gz\n",
      "Found /home/federico/Python_vsc_dir/RL_Trader/Experiments/resampled/USDT_BTC/trades/60s/2021-02-15.csv.gz\n",
      "Found /home/federico/Python_vsc_dir/RL_Trader/Experiments/resampled/USDT_BTC/trades/60s/2021-02-16.csv.gz\n",
      "Found /home/federico/Python_vsc_dir/RL_Trader/Experiments/resampled/USDT_BTC/trades/60s/2021-02-17.csv.gz\n",
      "Found /home/federico/Python_vsc_dir/RL_Trader/Experiments/resampled/USDT_BTC/trades/60s/2021-02-18.csv.gz\n",
      "Found /home/federico/Python_vsc_dir/RL_Trader/Experiments/resampled/USDT_BTC/trades/60s/2021-02-19.csv.gz\n",
      "Found /home/federico/Python_vsc_dir/RL_Trader/Experiments/resampled/USDT_BTC/trades/60s/2021-02-20.csv.gz\n",
      "Found /home/federico/Python_vsc_dir/RL_Trader/Experiments/resampled/USDT_BTC/trades/60s/2021-02-21.csv.gz\n",
      "Found /home/federico/Python_vsc_dir/RL_Trader/Experiments/resampled/USDT_BTC/trades/60s/2021-02-22.csv.gz\n",
      "Found /home/federico/Python_vsc_dir/RL_Trader/Experiments/resampled/USDT_BTC/trades/60s/2021-02-23.csv.gz\n",
      "Found /home/federico/Python_vsc_dir/RL_Trader/Experiments/resampled/USDT_BTC/trades/60s/2021-02-24.csv.gz\n",
      "Found /home/federico/Python_vsc_dir/RL_Trader/Experiments/resampled/USDT_BTC/trades/60s/2021-02-25.csv.gz\n",
      "Found /home/federico/Python_vsc_dir/RL_Trader/Experiments/resampled/USDT_BTC/trades/60s/2021-02-26.csv.gz\n",
      "Found /home/federico/Python_vsc_dir/RL_Trader/Experiments/resampled/USDT_BTC/trades/60s/2021-02-27.csv.gz\n",
      "Found /home/federico/Python_vsc_dir/RL_Trader/Experiments/resampled/USDT_BTC/trades/60s/2021-02-28.csv.gz\n",
      "Found /home/federico/Python_vsc_dir/RL_Trader/Experiments/resampled/USDT_BTC/trades/60s/2021-03-01.csv.gz\n",
      "Found /home/federico/Python_vsc_dir/RL_Trader/Experiments/resampled/USDT_BTC/trades/60s/2021-03-02.csv.gz\n",
      "Found /home/federico/Python_vsc_dir/RL_Trader/Experiments/resampled/USDT_BTC/trades/60s/2021-03-03.csv.gz\n",
      "Found /home/federico/Python_vsc_dir/RL_Trader/Experiments/resampled/USDT_BTC/trades/60s/2021-03-04.csv.gz\n",
      "Found /home/federico/Python_vsc_dir/RL_Trader/Experiments/resampled/USDT_BTC/trades/60s/2021-03-05.csv.gz\n",
      "Found /home/federico/Python_vsc_dir/RL_Trader/Experiments/resampled/USDT_BTC/trades/60s/2021-03-06.csv.gz\n",
      "Found /home/federico/Python_vsc_dir/RL_Trader/Experiments/resampled/USDT_BTC/trades/60s/2021-03-07.csv.gz\n",
      "Found /home/federico/Python_vsc_dir/RL_Trader/Experiments/resampled/USDT_BTC/trades/60s/2021-03-08.csv.gz\n",
      "Found /home/federico/Python_vsc_dir/RL_Trader/Experiments/resampled/USDT_BTC/trades/60s/2021-03-09.csv.gz\n",
      "Found /home/federico/Python_vsc_dir/RL_Trader/Experiments/resampled/USDT_BTC/trades/60s/2021-03-10.csv.gz\n",
      "Found /home/federico/Python_vsc_dir/RL_Trader/Experiments/resampled/USDT_BTC/trades/60s/2021-03-11.csv.gz\n",
      "Found /home/federico/Python_vsc_dir/RL_Trader/Experiments/resampled/USDT_BTC/trades/60s/2021-03-12.csv.gz\n",
      "Found /home/federico/Python_vsc_dir/RL_Trader/Experiments/resampled/USDT_BTC/trades/60s/2021-03-13.csv.gz\n",
      "Found /home/federico/Python_vsc_dir/RL_Trader/Experiments/resampled/USDT_BTC/trades/60s/2021-03-14.csv.gz\n",
      "Found /home/federico/Python_vsc_dir/RL_Trader/Experiments/resampled/USDT_BTC/trades/60s/2021-03-15.csv.gz\n",
      "Found /home/federico/Python_vsc_dir/RL_Trader/Experiments/resampled/USDT_BTC/trades/60s/2021-03-16.csv.gz\n",
      "Found /home/federico/Python_vsc_dir/RL_Trader/Experiments/resampled/USDT_BTC/trades/60s/2021-03-17.csv.gz\n",
      "Found /home/federico/Python_vsc_dir/RL_Trader/Experiments/resampled/USDT_BTC/trades/60s/2021-03-18.csv.gz\n",
      "Found /home/federico/Python_vsc_dir/RL_Trader/Experiments/resampled/USDT_BTC/trades/60s/2021-03-19.csv.gz\n",
      "Found /home/federico/Python_vsc_dir/RL_Trader/Experiments/resampled/USDT_BTC/trades/60s/2021-03-20.csv.gz\n",
      "Found /home/federico/Python_vsc_dir/RL_Trader/Experiments/resampled/USDT_BTC/trades/60s/2021-03-21.csv.gz\n",
      "Found /home/federico/Python_vsc_dir/RL_Trader/Experiments/resampled/USDT_BTC/trades/60s/2021-03-22.csv.gz\n",
      "Found /home/federico/Python_vsc_dir/RL_Trader/Experiments/resampled/USDT_BTC/trades/60s/2021-03-23.csv.gz\n",
      "Found /home/federico/Python_vsc_dir/RL_Trader/Experiments/resampled/USDT_BTC/trades/60s/2021-03-24.csv.gz\n",
      "Found /home/federico/Python_vsc_dir/RL_Trader/Experiments/resampled/USDT_BTC/trades/60s/2021-03-25.csv.gz\n",
      "Found /home/federico/Python_vsc_dir/RL_Trader/Experiments/resampled/USDT_BTC/trades/60s/2021-03-26.csv.gz\n",
      "Found /home/federico/Python_vsc_dir/RL_Trader/Experiments/resampled/USDT_BTC/trades/60s/2021-03-27.csv.gz\n",
      "Found /home/federico/Python_vsc_dir/RL_Trader/Experiments/resampled/USDT_BTC/trades/60s/2021-03-28.csv.gz\n",
      "Found /home/federico/Python_vsc_dir/RL_Trader/Experiments/resampled/USDT_BTC/trades/60s/2021-03-29.csv.gz\n",
      "Found /home/federico/Python_vsc_dir/RL_Trader/Experiments/resampled/USDT_BTC/trades/60s/2021-03-30.csv.gz\n",
      "Found /home/federico/Python_vsc_dir/RL_Trader/Experiments/resampled/USDT_BTC/trades/60s/2021-03-31.csv.gz\n",
      "/usr/lib/python3/dist-packages/dask/dataframe/io/csv.py:381: UserWarning: Warning gzip compression does not support breaking apart files\n",
      "Please ensure that each individual file can fit in memory and\n",
      "use the keyword ``blocksize=None to remove this message``\n",
      "Setting ``blocksize=None``\n",
      "  warn(\n"
     ]
    }
   ],
   "source": [
    "# import px\n",
    "results_px = dp.get_lob_data('USDT_BTC', date_start, date_end, timedelta(seconds=60), 100)\n",
    "ddf_px = dd.read_csv(results_px, compression='gzip').compute()\n",
    "\n",
    "# import trades\n",
    "results_trade = dp.get_trade_data('USDT_BTC', date_start, date_end, timedelta(seconds=60))\n",
    "ddf_trade = dd.read_csv(results_trade, compression='gzip').compute()\n"
   ]
  },
  {
   "cell_type": "code",
   "execution_count": 9,
   "metadata": {},
   "outputs": [],
   "source": [
    "ddf_px['Datetime'] = pd.to_datetime(ddf_px['Datetime'], format='%Y-%m-%d %H:%M:%S')\n",
    "ddf_trade['Datetime'] = pd.to_datetime(ddf_trade['Datetime'], format='%Y-%m-%d %H:%M:%S')\n",
    "\n",
    "# merge in unique dataset\n",
    "df_data = pd.merge(ddf_px, ddf_trade, left_on='Datetime', right_on='Datetime', how='left')\n",
    "df_data.sort_values(by='Datetime', inplace=True)\n",
    "df_data.set_index('Datetime', inplace=True)\n",
    "\n",
    "df_missings = df_data[df_data.isna().sum(axis=1)>0] # minutes with no trades\n",
    "\n",
    "# impute NAs - zero for size and last px for price. Handle NAs at the top of the df when importing data\n",
    "trade_px_cols = ['av_price_buy', 'av_price_sell', 'wav_price_buy', 'wav_price_sell']\n",
    "trade_size_cols = ['amount_buy', 'amount_sell']\n",
    "trade_orders_cols = ['unique_orders_buy', 'unique_orders_sell', 'clips_buy', 'clips_sell']\n",
    "df_data.loc[:,trade_size_cols+trade_orders_cols] = df_data.loc[:,trade_size_cols+trade_orders_cols].fillna(0)\n",
    "df_data.loc[:,trade_px_cols] = df_data.loc[:,trade_px_cols].fillna(method='ffill')"
   ]
  },
  {
   "source": [
    "#### Prepare for standardization"
   ],
   "cell_type": "markdown",
   "metadata": {}
  },
  {
   "cell_type": "code",
   "execution_count": 10,
   "metadata": {},
   "outputs": [],
   "source": [
    "# column subset - group of input variables with similar distributions\n",
    "std_px_cols = ['Ask_Price', 'Bid_Price', 'Mid_Price', 'av_price_buy', 'av_price_sell','wav_price_buy', 'wav_price_sell']\n",
    "\n",
    "rege_size = re.compile('._Size_')\n",
    "std_depth_size_cols = [col for col in df_data.columns if re.search(rege_size, col)]\n",
    "\n",
    "std_trade_size_cols = ['amount_buy', 'amount_sell']\n",
    "\n",
    "rege_order_book = re.compile('._Level_')\n",
    "std_depth_level_cols = [col for col in df_data.columns if re.search(rege_order_book, col)]\n",
    "\n",
    "std_number_trade_cols = ['unique_orders_buy', 'unique_orders_sell', 'clips_buy', 'clips_sell']"
   ]
  },
  {
   "cell_type": "code",
   "execution_count": 11,
   "metadata": {},
   "outputs": [
    {
     "output_type": "stream",
     "name": "stdout",
     "text": [
      "rolling window = 100800, calculate as roll: 14400 * levels: 1 * shape[1]: 7\n",
      "rolling window = 115200, calculate as roll: 14400 * levels: 1 * shape[1]: 8\n",
      "rolling window = 28800, calculate as roll: 14400 * levels: 1 * shape[1]: 2\n",
      "rolling window = 115200, calculate as roll: 14400 * levels: 1 * shape[1]: 8\n",
      "rolling window = 57600, calculate as roll: 14400 * levels: 1 * shape[1]: 4\n"
     ]
    }
   ],
   "source": [
    "# perform dynamic z score standardizations\n",
    "px_dyn_stdz = dp.standardize(df_data[std_px_cols], stdz_depth=1, norm_type=norm_type, roll=roll)\n",
    "\n",
    "depth_size_dyn_stdz = dp.standardize(df_data[std_depth_size_cols], stdz_depth=1, norm_type=norm_type, roll=roll)\n",
    "\n",
    "trd_size_dyn_stdz = dp.standardize(df_data[std_trade_size_cols], stdz_depth=1, norm_type=norm_type, roll=roll)\n",
    "\n",
    "depth_level_dyn_stdz = dp.standardize(df_data[std_depth_level_cols], stdz_depth=1, norm_type=norm_type, roll=roll)\n",
    "\n",
    "trade_number_dyn_stdz = dp.standardize(df_data[std_number_trade_cols], stdz_depth=1, norm_type=norm_type, roll=roll)\n",
    "\n",
    "# merge dfs back together\n",
    "df_data_dyn_stdz = pd.concat([px_dyn_stdz, depth_size_dyn_stdz, trd_size_dyn_stdz, depth_level_dyn_stdz, trade_number_dyn_stdz], axis=1)\n",
    "df_data_dyn_stdz.dropna(how='all', inplace=True)"
   ]
  },
  {
   "source": [
    "#### Data check"
   ],
   "cell_type": "markdown",
   "metadata": {}
  },
  {
   "cell_type": "code",
   "execution_count": 12,
   "metadata": {},
   "outputs": [
    {
     "output_type": "execute_result",
     "data": {
      "text/plain": [
       "                       count          mean           std           min  \\\n",
       "Ask_Price           203040.0  36019.022776  14337.492444  15277.981632   \n",
       "Bid_Price           203040.0  36009.832764  14334.765573  15277.090610   \n",
       "Mid_Price           203040.0  36014.427770  14336.128252  15277.536121   \n",
       "Ask_Level_5bps      203040.0      3.337318      2.030443     -1.000000   \n",
       "Ask_Size_5bps       203040.0      2.481163      1.641710      0.000000   \n",
       "Bid_Level_5bps      203040.0      3.127330      1.807063     -1.000000   \n",
       "Bid_Size_5bps       203040.0      2.357019      1.896499      0.000000   \n",
       "Ask_Level_10bps     203040.0      6.761850      3.576232     -1.000000   \n",
       "Ask_Size_10bps      203040.0      3.726547      2.066005      0.000000   \n",
       "Bid_Level_10bps     203040.0      6.394893      2.865228     -1.000000   \n",
       "Bid_Size_10bps      203040.0      3.611705      2.673614      0.000000   \n",
       "Ask_Level_20bps     203040.0     14.026867      7.807498     -1.000000   \n",
       "Ask_Size_20bps      203040.0      5.525597      2.857419      0.000000   \n",
       "Bid_Level_20bps     203040.0     12.471651      5.781302     -1.000000   \n",
       "Bid_Size_20bps      203040.0      5.348925      4.151425      0.000000   \n",
       "Ask_Level_30bps     203040.0     22.460018     12.353139      0.000000   \n",
       "Ask_Size_30bps      203040.0      7.424747      4.049017      0.010809   \n",
       "Bid_Level_30bps     203040.0     19.239835      9.003969      0.000000   \n",
       "Bid_Size_30bps      203040.0      7.070020      5.646266      0.022397   \n",
       "amount_buy          203040.0      0.586131      1.365169      0.000000   \n",
       "amount_sell         203040.0      0.615137      1.568707      0.000000   \n",
       "av_price_buy        203040.0  36016.165009  14336.514324  15277.814842   \n",
       "av_price_sell       203040.0  36012.404716  14335.420702  15277.808035   \n",
       "wav_price_buy       203040.0  36014.387732  14335.865106  15277.669566   \n",
       "wav_price_sell      203040.0  36013.557932  14336.023433  15277.808035   \n",
       "unique_orders_buy   203040.0      9.782319     12.577913      0.000000   \n",
       "unique_orders_sell  203040.0      8.490105     10.776742      0.000000   \n",
       "clips_buy           203040.0     12.134840     17.686104      0.000000   \n",
       "clips_sell          203040.0     10.761091     16.412516      0.000000   \n",
       "\n",
       "                             25%           50%           75%           max  \n",
       "Ask_Price           19600.256724  34804.703235  49105.028926  61740.648399  \n",
       "Bid_Price           19596.589476  34787.654107  49093.214382  61718.386654  \n",
       "Mid_Price           19598.497810  34796.519778  49100.067433  61729.517527  \n",
       "Ask_Level_5bps          2.000000      3.000000      4.000000     78.000000  \n",
       "Ask_Size_5bps           1.356365      2.164992      3.374176     50.114798  \n",
       "Bid_Level_5bps          2.000000      3.000000      4.000000     52.000000  \n",
       "Bid_Size_5bps           1.249238      2.081705      3.138688     65.469819  \n",
       "Ask_Level_10bps         5.000000      6.000000      8.000000     99.000000  \n",
       "Ask_Size_10bps          2.292560      3.379917      4.805411     56.542259  \n",
       "Bid_Level_10bps         5.000000      6.000000      8.000000     84.000000  \n",
       "Bid_Size_10bps          2.176929      3.275347      4.510342     97.090687  \n",
       "Ask_Level_20bps         9.000000     12.000000     17.000000     99.000000  \n",
       "Ask_Size_20bps          3.617575      5.018879      6.925057     65.805312  \n",
       "Bid_Level_20bps         9.000000     11.000000     15.000000     99.000000  \n",
       "Bid_Size_20bps          3.419781      4.728692      6.315994    115.116806  \n",
       "Ask_Level_30bps        14.000000     19.000000     27.000000     99.000000  \n",
       "Ask_Size_30bps          4.748905      6.564870      9.213940     74.600515  \n",
       "Bid_Level_30bps        13.000000     17.000000     23.000000     99.000000  \n",
       "Bid_Size_30bps          4.416894      6.069191      8.156558    130.964413  \n",
       "amount_buy              0.006743      0.132116      0.570766     54.009538  \n",
       "amount_sell             0.005621      0.122941      0.571342    104.326151  \n",
       "av_price_buy        19600.543837  34798.672225  49101.377507  61761.115341  \n",
       "av_price_sell       19597.431030  34794.101764  49097.191204  61738.200820  \n",
       "wav_price_buy       19599.760588  34798.334882  49099.480477  61780.862815  \n",
       "wav_price_sell      19597.290242  34793.839215  49099.015860  61732.758342  \n",
       "unique_orders_buy       3.000000      6.000000     12.000000    450.000000  \n",
       "unique_orders_sell      3.000000      5.000000     11.000000    344.000000  \n",
       "clips_buy               3.000000      7.000000     14.000000    746.000000  \n",
       "clips_sell              3.000000      6.000000     13.000000    763.000000  "
      ],
      "text/html": "<div>\n<style scoped>\n    .dataframe tbody tr th:only-of-type {\n        vertical-align: middle;\n    }\n\n    .dataframe tbody tr th {\n        vertical-align: top;\n    }\n\n    .dataframe thead th {\n        text-align: right;\n    }\n</style>\n<table border=\"1\" class=\"dataframe\">\n  <thead>\n    <tr style=\"text-align: right;\">\n      <th></th>\n      <th>count</th>\n      <th>mean</th>\n      <th>std</th>\n      <th>min</th>\n      <th>25%</th>\n      <th>50%</th>\n      <th>75%</th>\n      <th>max</th>\n    </tr>\n  </thead>\n  <tbody>\n    <tr>\n      <th>Ask_Price</th>\n      <td>203040.0</td>\n      <td>36019.022776</td>\n      <td>14337.492444</td>\n      <td>15277.981632</td>\n      <td>19600.256724</td>\n      <td>34804.703235</td>\n      <td>49105.028926</td>\n      <td>61740.648399</td>\n    </tr>\n    <tr>\n      <th>Bid_Price</th>\n      <td>203040.0</td>\n      <td>36009.832764</td>\n      <td>14334.765573</td>\n      <td>15277.090610</td>\n      <td>19596.589476</td>\n      <td>34787.654107</td>\n      <td>49093.214382</td>\n      <td>61718.386654</td>\n    </tr>\n    <tr>\n      <th>Mid_Price</th>\n      <td>203040.0</td>\n      <td>36014.427770</td>\n      <td>14336.128252</td>\n      <td>15277.536121</td>\n      <td>19598.497810</td>\n      <td>34796.519778</td>\n      <td>49100.067433</td>\n      <td>61729.517527</td>\n    </tr>\n    <tr>\n      <th>Ask_Level_5bps</th>\n      <td>203040.0</td>\n      <td>3.337318</td>\n      <td>2.030443</td>\n      <td>-1.000000</td>\n      <td>2.000000</td>\n      <td>3.000000</td>\n      <td>4.000000</td>\n      <td>78.000000</td>\n    </tr>\n    <tr>\n      <th>Ask_Size_5bps</th>\n      <td>203040.0</td>\n      <td>2.481163</td>\n      <td>1.641710</td>\n      <td>0.000000</td>\n      <td>1.356365</td>\n      <td>2.164992</td>\n      <td>3.374176</td>\n      <td>50.114798</td>\n    </tr>\n    <tr>\n      <th>Bid_Level_5bps</th>\n      <td>203040.0</td>\n      <td>3.127330</td>\n      <td>1.807063</td>\n      <td>-1.000000</td>\n      <td>2.000000</td>\n      <td>3.000000</td>\n      <td>4.000000</td>\n      <td>52.000000</td>\n    </tr>\n    <tr>\n      <th>Bid_Size_5bps</th>\n      <td>203040.0</td>\n      <td>2.357019</td>\n      <td>1.896499</td>\n      <td>0.000000</td>\n      <td>1.249238</td>\n      <td>2.081705</td>\n      <td>3.138688</td>\n      <td>65.469819</td>\n    </tr>\n    <tr>\n      <th>Ask_Level_10bps</th>\n      <td>203040.0</td>\n      <td>6.761850</td>\n      <td>3.576232</td>\n      <td>-1.000000</td>\n      <td>5.000000</td>\n      <td>6.000000</td>\n      <td>8.000000</td>\n      <td>99.000000</td>\n    </tr>\n    <tr>\n      <th>Ask_Size_10bps</th>\n      <td>203040.0</td>\n      <td>3.726547</td>\n      <td>2.066005</td>\n      <td>0.000000</td>\n      <td>2.292560</td>\n      <td>3.379917</td>\n      <td>4.805411</td>\n      <td>56.542259</td>\n    </tr>\n    <tr>\n      <th>Bid_Level_10bps</th>\n      <td>203040.0</td>\n      <td>6.394893</td>\n      <td>2.865228</td>\n      <td>-1.000000</td>\n      <td>5.000000</td>\n      <td>6.000000</td>\n      <td>8.000000</td>\n      <td>84.000000</td>\n    </tr>\n    <tr>\n      <th>Bid_Size_10bps</th>\n      <td>203040.0</td>\n      <td>3.611705</td>\n      <td>2.673614</td>\n      <td>0.000000</td>\n      <td>2.176929</td>\n      <td>3.275347</td>\n      <td>4.510342</td>\n      <td>97.090687</td>\n    </tr>\n    <tr>\n      <th>Ask_Level_20bps</th>\n      <td>203040.0</td>\n      <td>14.026867</td>\n      <td>7.807498</td>\n      <td>-1.000000</td>\n      <td>9.000000</td>\n      <td>12.000000</td>\n      <td>17.000000</td>\n      <td>99.000000</td>\n    </tr>\n    <tr>\n      <th>Ask_Size_20bps</th>\n      <td>203040.0</td>\n      <td>5.525597</td>\n      <td>2.857419</td>\n      <td>0.000000</td>\n      <td>3.617575</td>\n      <td>5.018879</td>\n      <td>6.925057</td>\n      <td>65.805312</td>\n    </tr>\n    <tr>\n      <th>Bid_Level_20bps</th>\n      <td>203040.0</td>\n      <td>12.471651</td>\n      <td>5.781302</td>\n      <td>-1.000000</td>\n      <td>9.000000</td>\n      <td>11.000000</td>\n      <td>15.000000</td>\n      <td>99.000000</td>\n    </tr>\n    <tr>\n      <th>Bid_Size_20bps</th>\n      <td>203040.0</td>\n      <td>5.348925</td>\n      <td>4.151425</td>\n      <td>0.000000</td>\n      <td>3.419781</td>\n      <td>4.728692</td>\n      <td>6.315994</td>\n      <td>115.116806</td>\n    </tr>\n    <tr>\n      <th>Ask_Level_30bps</th>\n      <td>203040.0</td>\n      <td>22.460018</td>\n      <td>12.353139</td>\n      <td>0.000000</td>\n      <td>14.000000</td>\n      <td>19.000000</td>\n      <td>27.000000</td>\n      <td>99.000000</td>\n    </tr>\n    <tr>\n      <th>Ask_Size_30bps</th>\n      <td>203040.0</td>\n      <td>7.424747</td>\n      <td>4.049017</td>\n      <td>0.010809</td>\n      <td>4.748905</td>\n      <td>6.564870</td>\n      <td>9.213940</td>\n      <td>74.600515</td>\n    </tr>\n    <tr>\n      <th>Bid_Level_30bps</th>\n      <td>203040.0</td>\n      <td>19.239835</td>\n      <td>9.003969</td>\n      <td>0.000000</td>\n      <td>13.000000</td>\n      <td>17.000000</td>\n      <td>23.000000</td>\n      <td>99.000000</td>\n    </tr>\n    <tr>\n      <th>Bid_Size_30bps</th>\n      <td>203040.0</td>\n      <td>7.070020</td>\n      <td>5.646266</td>\n      <td>0.022397</td>\n      <td>4.416894</td>\n      <td>6.069191</td>\n      <td>8.156558</td>\n      <td>130.964413</td>\n    </tr>\n    <tr>\n      <th>amount_buy</th>\n      <td>203040.0</td>\n      <td>0.586131</td>\n      <td>1.365169</td>\n      <td>0.000000</td>\n      <td>0.006743</td>\n      <td>0.132116</td>\n      <td>0.570766</td>\n      <td>54.009538</td>\n    </tr>\n    <tr>\n      <th>amount_sell</th>\n      <td>203040.0</td>\n      <td>0.615137</td>\n      <td>1.568707</td>\n      <td>0.000000</td>\n      <td>0.005621</td>\n      <td>0.122941</td>\n      <td>0.571342</td>\n      <td>104.326151</td>\n    </tr>\n    <tr>\n      <th>av_price_buy</th>\n      <td>203040.0</td>\n      <td>36016.165009</td>\n      <td>14336.514324</td>\n      <td>15277.814842</td>\n      <td>19600.543837</td>\n      <td>34798.672225</td>\n      <td>49101.377507</td>\n      <td>61761.115341</td>\n    </tr>\n    <tr>\n      <th>av_price_sell</th>\n      <td>203040.0</td>\n      <td>36012.404716</td>\n      <td>14335.420702</td>\n      <td>15277.808035</td>\n      <td>19597.431030</td>\n      <td>34794.101764</td>\n      <td>49097.191204</td>\n      <td>61738.200820</td>\n    </tr>\n    <tr>\n      <th>wav_price_buy</th>\n      <td>203040.0</td>\n      <td>36014.387732</td>\n      <td>14335.865106</td>\n      <td>15277.669566</td>\n      <td>19599.760588</td>\n      <td>34798.334882</td>\n      <td>49099.480477</td>\n      <td>61780.862815</td>\n    </tr>\n    <tr>\n      <th>wav_price_sell</th>\n      <td>203040.0</td>\n      <td>36013.557932</td>\n      <td>14336.023433</td>\n      <td>15277.808035</td>\n      <td>19597.290242</td>\n      <td>34793.839215</td>\n      <td>49099.015860</td>\n      <td>61732.758342</td>\n    </tr>\n    <tr>\n      <th>unique_orders_buy</th>\n      <td>203040.0</td>\n      <td>9.782319</td>\n      <td>12.577913</td>\n      <td>0.000000</td>\n      <td>3.000000</td>\n      <td>6.000000</td>\n      <td>12.000000</td>\n      <td>450.000000</td>\n    </tr>\n    <tr>\n      <th>unique_orders_sell</th>\n      <td>203040.0</td>\n      <td>8.490105</td>\n      <td>10.776742</td>\n      <td>0.000000</td>\n      <td>3.000000</td>\n      <td>5.000000</td>\n      <td>11.000000</td>\n      <td>344.000000</td>\n    </tr>\n    <tr>\n      <th>clips_buy</th>\n      <td>203040.0</td>\n      <td>12.134840</td>\n      <td>17.686104</td>\n      <td>0.000000</td>\n      <td>3.000000</td>\n      <td>7.000000</td>\n      <td>14.000000</td>\n      <td>746.000000</td>\n    </tr>\n    <tr>\n      <th>clips_sell</th>\n      <td>203040.0</td>\n      <td>10.761091</td>\n      <td>16.412516</td>\n      <td>0.000000</td>\n      <td>3.000000</td>\n      <td>6.000000</td>\n      <td>13.000000</td>\n      <td>763.000000</td>\n    </tr>\n  </tbody>\n</table>\n</div>"
     },
     "metadata": {},
     "execution_count": 12
    }
   ],
   "source": [
    "# original data\n",
    "df_data.describe().T"
   ]
  },
  {
   "cell_type": "code",
   "execution_count": 13,
   "metadata": {},
   "outputs": [
    {
     "output_type": "execute_result",
     "data": {
      "text/plain": [
       "                       count      mean       std       min       25%  \\\n",
       "Ask_Price           188639.0  0.647255  1.339293 -3.838798 -0.316820   \n",
       "Bid_Price           188639.0  0.642601  1.339521 -3.849015 -0.321040   \n",
       "Mid_Price           188639.0  0.644899  1.339348 -3.843443 -0.318838   \n",
       "av_price_buy        188639.0  0.645699  1.339534 -3.834536 -0.317854   \n",
       "av_price_sell       188639.0  0.643877  1.339317 -3.850752 -0.319460   \n",
       "wav_price_buy       188639.0  0.644788  1.339507 -3.845164 -0.318817   \n",
       "wav_price_sell      188639.0  0.644389  1.339179 -3.855362 -0.318226   \n",
       "Ask_Size_5bps       188639.0 -0.808705  0.454065 -2.017977 -1.100673   \n",
       "Bid_Size_5bps       188639.0 -0.846877  0.491098 -2.017952 -1.139443   \n",
       "Ask_Size_10bps      188639.0 -0.374803  0.510313 -1.983688 -0.668189   \n",
       "Bid_Size_10bps      188639.0 -0.416552  0.604396 -1.983641 -0.735022   \n",
       "Ask_Size_20bps      188639.0  0.265109  0.715507 -1.982703 -0.139808   \n",
       "Bid_Size_20bps      188639.0  0.192651  0.886164 -1.982657 -0.265373   \n",
       "Ask_Size_30bps      188639.0  0.889211  0.979691 -1.870666  0.338321   \n",
       "Bid_Size_30bps      188639.0  0.751527  1.167658 -1.855190  0.142418   \n",
       "amount_buy          188639.0 -0.021490  0.928120 -0.589161 -0.396737   \n",
       "amount_sell         188639.0 -0.001342  1.064227 -0.589242 -0.398699   \n",
       "Ask_Level_5bps      188639.0 -0.829232  0.204775 -1.492387 -0.950989   \n",
       "Bid_Level_5bps      188639.0 -0.850018  0.186623 -1.492376 -0.961648   \n",
       "Ask_Level_10bps     188639.0 -0.450707  0.372734 -1.466307 -0.673361   \n",
       "Bid_Level_10bps     188639.0 -0.488766  0.294670 -1.466289 -0.676477   \n",
       "Ask_Level_20bps     188639.0  0.347372  0.818029 -1.335189 -0.183245   \n",
       "Bid_Level_20bps     188639.0  0.182433  0.593611 -1.314892 -0.203388   \n",
       "Ask_Level_30bps     188639.0  1.275954  1.298419 -1.181059  0.362552   \n",
       "Bid_Level_30bps     188639.0  0.931253  0.935280 -1.180805  0.286665   \n",
       "unique_orders_buy   188639.0 -0.022809  0.877651 -0.948882 -0.514829   \n",
       "unique_orders_sell  188639.0 -0.119530  0.754297 -0.949013 -0.530514   \n",
       "clips_buy           188639.0  0.147885  1.271734 -0.948874 -0.488533   \n",
       "clips_sell          188639.0  0.044522  1.159860 -0.948982 -0.509702   \n",
       "\n",
       "                         50%       75%         max  \n",
       "Ask_Price           0.873857  1.611924    5.248069  \n",
       "Bid_Price           0.870440  1.608507    5.222277  \n",
       "Mid_Price           0.872212  1.610003    5.234065  \n",
       "av_price_buy        0.872502  1.610660    5.249792  \n",
       "av_price_sell       0.871461  1.608955    5.231112  \n",
       "wav_price_buy       0.871528  1.610073    5.226776  \n",
       "wav_price_sell      0.871973  1.609530    5.259932  \n",
       "Ask_Size_5bps      -0.794499 -0.521137   20.759091  \n",
       "Bid_Size_5bps      -0.843154 -0.579898   17.946778  \n",
       "Ask_Size_10bps     -0.366589 -0.092078   23.653891  \n",
       "Bid_Size_10bps     -0.433108 -0.145021   19.381324  \n",
       "Ask_Size_20bps      0.213986  0.608328   27.859093  \n",
       "Bid_Size_20bps      0.102264  0.516980   22.731375  \n",
       "Ask_Size_30bps      0.801700  1.312012   31.837834  \n",
       "Bid_Size_30bps      0.616606  1.146411   33.050323  \n",
       "amount_buy         -0.296745 -0.023586   35.173414  \n",
       "amount_sell        -0.299481 -0.023083  119.744150  \n",
       "Ask_Level_5bps     -0.836674 -0.726462    5.973113  \n",
       "Bid_Level_5bps     -0.852083 -0.737655    3.498990  \n",
       "Ask_Level_10bps    -0.526947 -0.319684    8.403335  \n",
       "Bid_Level_10bps    -0.529070 -0.336754    6.745207  \n",
       "Ask_Level_20bps     0.111933  0.617739    9.207667  \n",
       "Bid_Level_20bps     0.055232  0.432832    8.656085  \n",
       "Ask_Level_30bps     0.899914  1.842320   11.224636  \n",
       "Bid_Level_30bps     0.714504  1.375114    8.656781  \n",
       "unique_orders_buy  -0.274381  0.150926   31.824854  \n",
       "unique_orders_sell -0.321199  0.025825   33.322325  \n",
       "clips_buy          -0.211941  0.314697  106.262962  \n",
       "clips_sell         -0.269904  0.166733   46.654985  "
      ],
      "text/html": "<div>\n<style scoped>\n    .dataframe tbody tr th:only-of-type {\n        vertical-align: middle;\n    }\n\n    .dataframe tbody tr th {\n        vertical-align: top;\n    }\n\n    .dataframe thead th {\n        text-align: right;\n    }\n</style>\n<table border=\"1\" class=\"dataframe\">\n  <thead>\n    <tr style=\"text-align: right;\">\n      <th></th>\n      <th>count</th>\n      <th>mean</th>\n      <th>std</th>\n      <th>min</th>\n      <th>25%</th>\n      <th>50%</th>\n      <th>75%</th>\n      <th>max</th>\n    </tr>\n  </thead>\n  <tbody>\n    <tr>\n      <th>Ask_Price</th>\n      <td>188639.0</td>\n      <td>0.647255</td>\n      <td>1.339293</td>\n      <td>-3.838798</td>\n      <td>-0.316820</td>\n      <td>0.873857</td>\n      <td>1.611924</td>\n      <td>5.248069</td>\n    </tr>\n    <tr>\n      <th>Bid_Price</th>\n      <td>188639.0</td>\n      <td>0.642601</td>\n      <td>1.339521</td>\n      <td>-3.849015</td>\n      <td>-0.321040</td>\n      <td>0.870440</td>\n      <td>1.608507</td>\n      <td>5.222277</td>\n    </tr>\n    <tr>\n      <th>Mid_Price</th>\n      <td>188639.0</td>\n      <td>0.644899</td>\n      <td>1.339348</td>\n      <td>-3.843443</td>\n      <td>-0.318838</td>\n      <td>0.872212</td>\n      <td>1.610003</td>\n      <td>5.234065</td>\n    </tr>\n    <tr>\n      <th>av_price_buy</th>\n      <td>188639.0</td>\n      <td>0.645699</td>\n      <td>1.339534</td>\n      <td>-3.834536</td>\n      <td>-0.317854</td>\n      <td>0.872502</td>\n      <td>1.610660</td>\n      <td>5.249792</td>\n    </tr>\n    <tr>\n      <th>av_price_sell</th>\n      <td>188639.0</td>\n      <td>0.643877</td>\n      <td>1.339317</td>\n      <td>-3.850752</td>\n      <td>-0.319460</td>\n      <td>0.871461</td>\n      <td>1.608955</td>\n      <td>5.231112</td>\n    </tr>\n    <tr>\n      <th>wav_price_buy</th>\n      <td>188639.0</td>\n      <td>0.644788</td>\n      <td>1.339507</td>\n      <td>-3.845164</td>\n      <td>-0.318817</td>\n      <td>0.871528</td>\n      <td>1.610073</td>\n      <td>5.226776</td>\n    </tr>\n    <tr>\n      <th>wav_price_sell</th>\n      <td>188639.0</td>\n      <td>0.644389</td>\n      <td>1.339179</td>\n      <td>-3.855362</td>\n      <td>-0.318226</td>\n      <td>0.871973</td>\n      <td>1.609530</td>\n      <td>5.259932</td>\n    </tr>\n    <tr>\n      <th>Ask_Size_5bps</th>\n      <td>188639.0</td>\n      <td>-0.808705</td>\n      <td>0.454065</td>\n      <td>-2.017977</td>\n      <td>-1.100673</td>\n      <td>-0.794499</td>\n      <td>-0.521137</td>\n      <td>20.759091</td>\n    </tr>\n    <tr>\n      <th>Bid_Size_5bps</th>\n      <td>188639.0</td>\n      <td>-0.846877</td>\n      <td>0.491098</td>\n      <td>-2.017952</td>\n      <td>-1.139443</td>\n      <td>-0.843154</td>\n      <td>-0.579898</td>\n      <td>17.946778</td>\n    </tr>\n    <tr>\n      <th>Ask_Size_10bps</th>\n      <td>188639.0</td>\n      <td>-0.374803</td>\n      <td>0.510313</td>\n      <td>-1.983688</td>\n      <td>-0.668189</td>\n      <td>-0.366589</td>\n      <td>-0.092078</td>\n      <td>23.653891</td>\n    </tr>\n    <tr>\n      <th>Bid_Size_10bps</th>\n      <td>188639.0</td>\n      <td>-0.416552</td>\n      <td>0.604396</td>\n      <td>-1.983641</td>\n      <td>-0.735022</td>\n      <td>-0.433108</td>\n      <td>-0.145021</td>\n      <td>19.381324</td>\n    </tr>\n    <tr>\n      <th>Ask_Size_20bps</th>\n      <td>188639.0</td>\n      <td>0.265109</td>\n      <td>0.715507</td>\n      <td>-1.982703</td>\n      <td>-0.139808</td>\n      <td>0.213986</td>\n      <td>0.608328</td>\n      <td>27.859093</td>\n    </tr>\n    <tr>\n      <th>Bid_Size_20bps</th>\n      <td>188639.0</td>\n      <td>0.192651</td>\n      <td>0.886164</td>\n      <td>-1.982657</td>\n      <td>-0.265373</td>\n      <td>0.102264</td>\n      <td>0.516980</td>\n      <td>22.731375</td>\n    </tr>\n    <tr>\n      <th>Ask_Size_30bps</th>\n      <td>188639.0</td>\n      <td>0.889211</td>\n      <td>0.979691</td>\n      <td>-1.870666</td>\n      <td>0.338321</td>\n      <td>0.801700</td>\n      <td>1.312012</td>\n      <td>31.837834</td>\n    </tr>\n    <tr>\n      <th>Bid_Size_30bps</th>\n      <td>188639.0</td>\n      <td>0.751527</td>\n      <td>1.167658</td>\n      <td>-1.855190</td>\n      <td>0.142418</td>\n      <td>0.616606</td>\n      <td>1.146411</td>\n      <td>33.050323</td>\n    </tr>\n    <tr>\n      <th>amount_buy</th>\n      <td>188639.0</td>\n      <td>-0.021490</td>\n      <td>0.928120</td>\n      <td>-0.589161</td>\n      <td>-0.396737</td>\n      <td>-0.296745</td>\n      <td>-0.023586</td>\n      <td>35.173414</td>\n    </tr>\n    <tr>\n      <th>amount_sell</th>\n      <td>188639.0</td>\n      <td>-0.001342</td>\n      <td>1.064227</td>\n      <td>-0.589242</td>\n      <td>-0.398699</td>\n      <td>-0.299481</td>\n      <td>-0.023083</td>\n      <td>119.744150</td>\n    </tr>\n    <tr>\n      <th>Ask_Level_5bps</th>\n      <td>188639.0</td>\n      <td>-0.829232</td>\n      <td>0.204775</td>\n      <td>-1.492387</td>\n      <td>-0.950989</td>\n      <td>-0.836674</td>\n      <td>-0.726462</td>\n      <td>5.973113</td>\n    </tr>\n    <tr>\n      <th>Bid_Level_5bps</th>\n      <td>188639.0</td>\n      <td>-0.850018</td>\n      <td>0.186623</td>\n      <td>-1.492376</td>\n      <td>-0.961648</td>\n      <td>-0.852083</td>\n      <td>-0.737655</td>\n      <td>3.498990</td>\n    </tr>\n    <tr>\n      <th>Ask_Level_10bps</th>\n      <td>188639.0</td>\n      <td>-0.450707</td>\n      <td>0.372734</td>\n      <td>-1.466307</td>\n      <td>-0.673361</td>\n      <td>-0.526947</td>\n      <td>-0.319684</td>\n      <td>8.403335</td>\n    </tr>\n    <tr>\n      <th>Bid_Level_10bps</th>\n      <td>188639.0</td>\n      <td>-0.488766</td>\n      <td>0.294670</td>\n      <td>-1.466289</td>\n      <td>-0.676477</td>\n      <td>-0.529070</td>\n      <td>-0.336754</td>\n      <td>6.745207</td>\n    </tr>\n    <tr>\n      <th>Ask_Level_20bps</th>\n      <td>188639.0</td>\n      <td>0.347372</td>\n      <td>0.818029</td>\n      <td>-1.335189</td>\n      <td>-0.183245</td>\n      <td>0.111933</td>\n      <td>0.617739</td>\n      <td>9.207667</td>\n    </tr>\n    <tr>\n      <th>Bid_Level_20bps</th>\n      <td>188639.0</td>\n      <td>0.182433</td>\n      <td>0.593611</td>\n      <td>-1.314892</td>\n      <td>-0.203388</td>\n      <td>0.055232</td>\n      <td>0.432832</td>\n      <td>8.656085</td>\n    </tr>\n    <tr>\n      <th>Ask_Level_30bps</th>\n      <td>188639.0</td>\n      <td>1.275954</td>\n      <td>1.298419</td>\n      <td>-1.181059</td>\n      <td>0.362552</td>\n      <td>0.899914</td>\n      <td>1.842320</td>\n      <td>11.224636</td>\n    </tr>\n    <tr>\n      <th>Bid_Level_30bps</th>\n      <td>188639.0</td>\n      <td>0.931253</td>\n      <td>0.935280</td>\n      <td>-1.180805</td>\n      <td>0.286665</td>\n      <td>0.714504</td>\n      <td>1.375114</td>\n      <td>8.656781</td>\n    </tr>\n    <tr>\n      <th>unique_orders_buy</th>\n      <td>188639.0</td>\n      <td>-0.022809</td>\n      <td>0.877651</td>\n      <td>-0.948882</td>\n      <td>-0.514829</td>\n      <td>-0.274381</td>\n      <td>0.150926</td>\n      <td>31.824854</td>\n    </tr>\n    <tr>\n      <th>unique_orders_sell</th>\n      <td>188639.0</td>\n      <td>-0.119530</td>\n      <td>0.754297</td>\n      <td>-0.949013</td>\n      <td>-0.530514</td>\n      <td>-0.321199</td>\n      <td>0.025825</td>\n      <td>33.322325</td>\n    </tr>\n    <tr>\n      <th>clips_buy</th>\n      <td>188639.0</td>\n      <td>0.147885</td>\n      <td>1.271734</td>\n      <td>-0.948874</td>\n      <td>-0.488533</td>\n      <td>-0.211941</td>\n      <td>0.314697</td>\n      <td>106.262962</td>\n    </tr>\n    <tr>\n      <th>clips_sell</th>\n      <td>188639.0</td>\n      <td>0.044522</td>\n      <td>1.159860</td>\n      <td>-0.948982</td>\n      <td>-0.509702</td>\n      <td>-0.269904</td>\n      <td>0.166733</td>\n      <td>46.654985</td>\n    </tr>\n  </tbody>\n</table>\n</div>"
     },
     "metadata": {},
     "execution_count": 13
    }
   ],
   "source": [
    "# dynamic z score\n",
    "df_data_dyn_stdz.describe().T"
   ]
  },
  {
   "cell_type": "code",
   "execution_count": null,
   "metadata": {},
   "outputs": [],
   "source": []
  }
 ]
}