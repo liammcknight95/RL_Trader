{
 "cells": [
  {
   "cell_type": "code",
   "execution_count": null,
   "metadata": {},
   "outputs": [],
   "source": [
    "%load_ext autoreload\n",
    "%autoreload 2\n",
    "import sys, os, time, json, re\n",
    "import numpy as np\n",
    "import pandas as pd\n",
    "from datetime import datetime, timedelta\n",
    "\n",
    "import data_preprocessing as dp\n",
    "import backtrader as bt\n",
    "import matplotlib.pyplot as plt"
   ]
  },
  {
   "cell_type": "markdown",
   "metadata": {},
   "source": [
    "## Get data"
   ]
  },
  {
   "cell_type": "code",
   "execution_count": null,
   "metadata": {},
   "outputs": [],
   "source": [
    "frequency = timedelta(seconds=60)\n",
    "pair = 'USDT_BTC'\n",
    "date_start = '2020-11-11'\n",
    "date_end = '2021-03-31'\n",
    "lob_depth = 100\n",
    "norm_type = 'dyn_z_score'\n",
    "roll = 1440*10 # 10 days"
   ]
  },
  {
   "cell_type": "code",
   "execution_count": null,
   "metadata": {},
   "outputs": [],
   "source": [
    "df_data, df_data_stdz = dp.import_data(\n",
    "    pair, \n",
    "    date_start, \n",
    "    date_end, \n",
    "    frequency=frequency, \n",
    "    depth=lob_depth, \n",
    "    norm_type=norm_type, \n",
    "    roll=roll, \n",
    "    stdz_depth=1\n",
    ")"
   ]
  },
  {
   "cell_type": "code",
   "execution_count": null,
   "metadata": {},
   "outputs": [],
   "source": [
    "df_data['Mid_Price'].plot()"
   ]
  },
  {
   "cell_type": "markdown",
   "metadata": {},
   "source": [
    "## Resample"
   ]
  },
  {
   "cell_type": "code",
   "execution_count": null,
   "metadata": {},
   "outputs": [],
   "source": [
    "# resample data to a less granular frequency\n",
    "df_data = df_data.asfreq('1min')\n",
    "df_data['volume'] = df_data['amount_buy'] + df_data['amount_sell']\n",
    "\n",
    "data_resampled = df_data.resample('30min').agg(\n",
    "    {\n",
    "    'Mid_Price': ['last', np.max, np.min], \n",
    "    'volume': np.sum\n",
    "    }\n",
    ")\n",
    "\n",
    "data_resampled.columns = data_resampled.columns.get_level_values(1)\n",
    "\n",
    "data_resampled['close'] = data_resampled['last']\n",
    "data_resampled['open'] = data_resampled['last'].shift()\n",
    "data_resampled['high'] = data_resampled['amax']\n",
    "data_resampled['low'] = data_resampled['amin']\n",
    "data_resampled['volume'] = data_resampled['sum']\n",
    "data_resampled.index.name = 'datetime'\n",
    "\n",
    "data_resampled\n",
    "# rename columns"
   ]
  },
  {
   "cell_type": "code",
   "execution_count": null,
   "metadata": {},
   "outputs": [],
   "source": [
    "data_resampled['log_ret'] = (np.log(data_resampled['close']) - np.log(data_resampled['close'].shift(1)))\n",
    "data_resampled['roll_std'] = data_resampled['log_ret'].rolling(window=336).std() # 336 is the number of 30mins interval in week\n",
    "data_resampled['roll_std'].plot(figsize=(8,4))"
   ]
  },
  {
   "cell_type": "markdown",
   "metadata": {},
   "source": [
    "## Backtrader"
   ]
  },
  {
   "cell_type": "code",
   "execution_count": null,
   "metadata": {},
   "outputs": [],
   "source": [
    "from Strategies.GoldenCross import GoldenCross\n",
    "from Strategies.BuyHold import BuyHold\n",
    "\n",
    "# Create a cerebro entity\n",
    "cerebro = bt.Cerebro()\n",
    "\n",
    "# Add a strategy\n",
    "cerebro.addstrategy(GoldenCross)\n",
    "\n",
    "# Create a Data Feed\n",
    "data = bt.feeds.PandasData(dataname=data_resampled[:2000])\n",
    "\n",
    "# Add the Data Feed to Cerebro\n",
    "cerebro.adddata(data)\n",
    "\n",
    "cerebro.addwriter(bt.WriterFile, out='./Strategies/logging/golden_cross2.csv', csv=True)\n",
    "\n",
    "# Set our desired cash start\n",
    "cerebro.broker.setcash(200000.0)\n",
    "# Add a FixedSize sizer according to the stake\n",
    "# cerebro.addsizer(bt.sizers.PercentSizer, percents=10)\n",
    "# cerebro.broker.setcommission(commission=0.0007) \n",
    "\n",
    "# Print out the starting conditions\n",
    "print('Starting Portfolio Value: %.2f' % cerebro.broker.getvalue())\n",
    "\n",
    "# Run over everything\n",
    "\n",
    "\n",
    "cerebro.run()\n",
    "\n",
    "plt.rcParams['figure.figsize']=[22, 16]\n",
    "cerebro.plot()\n",
    "# Print out the final result\n",
    "print('Final Portfolio Value: %.2f' % cerebro.broker.getvalue())\n",
    "\n",
    "# figure out what's wrong with stop losses\n"
   ]
  },
  {
   "cell_type": "code",
   "execution_count": null,
   "metadata": {},
   "outputs": [],
   "source": [
    "strategy_results = pd.read_csv('./Strategies/logging/golden_cross2.csv', header=1, index_col='Id').dropna(thresh=3)\n",
    "strategy_results['datetime'] = pd.to_datetime(strategy_results['datetime'])\n",
    "print(strategy_results.shape)"
   ]
  },
  {
   "cell_type": "code",
   "execution_count": null,
   "metadata": {},
   "outputs": [],
   "source": [
    "strategy_and_indic = pd.merge(data_resampled, strategy_results, left_index=True, right_on='datetime', how='outer')\n",
    "print(strategy_and_indic.columns)\n",
    "columns_to_keep = ['datetime', 'open_x', 'close_x', 'high_x', 'low_x', 'cash', 'value', 'buy', 'sell', 'pnlplus', 'pnlminus', 'sma', 'sma.1', 'crossover']\n",
    "strategy_and_indic[columns_to_keep].to_csv('./Strategies/logging/golden_cross_cl.csv')"
   ]
  },
  {
   "cell_type": "code",
   "execution_count": null,
   "metadata": {},
   "outputs": [],
   "source": [
    "# def saveplots(cerebro, numfigs=1, iplot=True, start=None, end=None,\n",
    "#              width=16, height=9, dpi=300, tight=True, use=None, file_path = '', **kwargs):\n",
    "\n",
    "#         from backtrader import plot\n",
    "#         if cerebro.p.oldsync:\n",
    "#             plotter = plot.Plot_OldSync(**kwargs)\n",
    "#         else:\n",
    "#             plotter = plot.Plot(**kwargs)\n",
    "\n",
    "#         figs = []\n",
    "#         for stratlist in cerebro.runstrats:\n",
    "#             for si, strat in enumerate(stratlist):\n",
    "#                 rfig = plotter.plot(strat, figid=si * 100,\n",
    "#                                     numfigs=numfigs, iplot=iplot,\n",
    "#                                     start=start, end=end, use=use)\n",
    "#                 figs.append(rfig)\n",
    "\n",
    "#         for fig in figs:\n",
    "#             for f in fig:\n",
    "#                 f.savefig(file_path, bbox_inches='tight')\n",
    "#         # return figs\n",
    "\n",
    "# saveplots(cerebro, file_path = 'savefig.png') "
   ]
  },
  {
   "cell_type": "markdown",
   "metadata": {},
   "source": [
    "## My trading functions"
   ]
  },
  {
   "cell_type": "code",
   "execution_count": null,
   "metadata": {},
   "outputs": [],
   "source": [
    "import ccxt\n",
    "import ta\n",
    "from ta.volatility import BollingerBands, AverageTrueRange\n",
    "import config\n",
    "import pandas as pd\n",
    "import plotly.graph_objects as go"
   ]
  },
  {
   "cell_type": "code",
   "execution_count": null,
   "metadata": {},
   "outputs": [],
   "source": [
    "exchange = ccxt.binance(\n",
    "    {\n",
    "        'apiKey': config.BINANCE_API_KEY,\n",
    "        'secret': config.BINANCE_SECRET_KEY\n",
    "    }\n",
    ")\n",
    "\n",
    "markets = exchange.load_markets()\n",
    "\n",
    "bars = exchange.fetch_ohlcv('ETH/USDT', limit=20) # most recent candle keeps evolving"
   ]
  },
  {
   "cell_type": "code",
   "execution_count": null,
   "metadata": {},
   "outputs": [],
   "source": [
    "df =data_resampled[['open', 'high', 'low', 'close', 'volume']].copy() # pd.DataFrame(bars, columns=['timestamp', 'open', 'high', 'low', 'close', 'volume'])\n",
    "\n",
    "bb_indicator = BollingerBands(df['close'], window=20)\n",
    "\n",
    "df['upper_band'] = bb_indicator.bollinger_hband()\n",
    "df['lower_band'] = bb_indicator.bollinger_lband()\n",
    "df['moving_average'] = bb_indicator.bollinger_mavg()"
   ]
  },
  {
   "cell_type": "code",
   "execution_count": null,
   "metadata": {},
   "outputs": [],
   "source": [
    "atr_indicator = AverageTrueRange(df['high'], df['low'], df['close'])\n",
    "df['atr'] = atr_indicator.average_true_range()\n",
    "\n",
    "df\n"
   ]
  },
  {
   "cell_type": "code",
   "execution_count": null,
   "metadata": {},
   "outputs": [],
   "source": [
    "fig = go.Figure(data=[go.Candlestick(x=df.index,\n",
    "                open=df['open'],\n",
    "                high=df['high'],\n",
    "                low=df['low'],\n",
    "                close=df['close'],\n",
    "                name='px')])\n",
    "\n",
    "fig.update_layout(\n",
    "    xaxis_rangeslider_visible=False,\n",
    "    width=1400,\n",
    "    height=600    \n",
    ")\n",
    "\n",
    "fig.add_scatter(x=df.index, y=df['atr'], name='atr')\n",
    "fig.add_scatter(x=df.index, y=df['moving_average'], name='ma')\n",
    "fig.add_scatter(x=df.index, y=df['upper_band'], name='bb_upper')\n",
    "fig.add_scatter(x=df.index, y=df['lower_band'], name='bb_lower')\n",
    "\n",
    "# fig.update_layout(\n",
    "#     title='The Great Recession',\n",
    "#     yaxis_title='AAPL Stock',\n",
    "#     shapes = [dict(\n",
    "#         x0='2016-12-09', x1='2016-12-09', y0=0, y1=1, xref='x', yref='paper',\n",
    "#         line_width=2)],\n",
    "#     annotations=[dict(\n",
    "#         x='2016-12-09', y=0.05, xref='x', yref='paper',\n",
    "#         showarrow=False, xanchor='left', text='Increase Period Begins')]\n",
    "# )\n",
    "\n",
    "fig.show()"
   ]
  },
  {
   "cell_type": "code",
   "execution_count": null,
   "metadata": {},
   "outputs": [],
   "source": []
  },
  {
   "cell_type": "code",
   "execution_count": null,
   "metadata": {},
   "outputs": [],
   "source": []
  }
 ],
 "metadata": {
  "interpreter": {
   "hash": "c128b2642c5e45a6a6e517f84a10ebf4883d575b0402fafd309361fdab983f20"
  },
  "kernelspec": {
   "display_name": "Python 3.8.10 64-bit ('rltrader_env': venv)",
   "name": "python3"
  },
  "language_info": {
   "codemirror_mode": {
    "name": "ipython",
    "version": 3
   },
   "file_extension": ".py",
   "mimetype": "text/x-python",
   "name": "python",
   "nbconvert_exporter": "python",
   "pygments_lexer": "ipython3",
   "version": "3.8.10"
  },
  "orig_nbformat": 4
 },
 "nbformat": 4,
 "nbformat_minor": 2
}
