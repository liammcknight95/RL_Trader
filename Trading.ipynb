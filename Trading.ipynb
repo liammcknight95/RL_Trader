{
 "cells": [
  {
   "cell_type": "code",
   "execution_count": null,
   "metadata": {},
   "outputs": [],
   "source": [
    "%load_ext autoreload\n",
    "%autoreload 2\n",
    "import sys, os, time, json, re\n",
    "import numpy as np\n",
    "import pandas as pd\n",
    "from datetime import datetime, timedelta\n",
    "\n",
    "import data_preprocessing as dp\n",
    "import backtrader as bt\n",
    "import matplotlib.pyplot as plt"
   ]
  },
  {
   "cell_type": "markdown",
   "metadata": {},
   "source": [
    "## Get data"
   ]
  },
  {
   "cell_type": "code",
   "execution_count": null,
   "metadata": {},
   "outputs": [],
   "source": [
    "frequency = timedelta(seconds=60)\n",
    "pair = 'USDT_BTC'\n",
    "date_start = '2020-11-11'\n",
    "date_end = '2021-03-31'\n",
    "lob_depth = 100\n",
    "norm_type = 'dyn_z_score'\n",
    "roll = 1440*10 # 10 days"
   ]
  },
  {
   "cell_type": "code",
   "execution_count": null,
   "metadata": {},
   "outputs": [],
   "source": [
    "df_data, df_data_stdz = dp.import_data(\n",
    "    pair, \n",
    "    date_start, \n",
    "    date_end, \n",
    "    frequency=frequency, \n",
    "    depth=lob_depth, \n",
    "    norm_type=norm_type, \n",
    "    roll=roll, \n",
    "    stdz_depth=1\n",
    ")"
   ]
  },
  {
   "cell_type": "code",
   "execution_count": null,
   "metadata": {},
   "outputs": [],
   "source": [
    "df_data['Mid_Price'].plot()"
   ]
  },
  {
   "cell_type": "markdown",
   "metadata": {},
   "source": [
    "## Resample"
   ]
  },
  {
   "cell_type": "code",
   "execution_count": null,
   "metadata": {},
   "outputs": [],
   "source": [
    "df_data[['Mid_Price']].head(31)"
   ]
  },
  {
   "cell_type": "code",
   "execution_count": null,
   "metadata": {},
   "outputs": [],
   "source": [
    "# resample data to a less granular frequency\n",
    "df_data = df_data.asfreq('1min')\n",
    "df_data['volume'] = df_data['amount_buy'] + df_data['amount_sell']\n",
    "\n",
    "data_resampled = df_data.resample('30min', label='right').agg( # closing time of candlestick\n",
    "    {\n",
    "    'Mid_Price': ['last', 'first', np.max, np.min], \n",
    "    'volume': np.sum\n",
    "    }\n",
    ")\n",
    "\n",
    "data_resampled.columns = data_resampled.columns.get_level_values(1)\n",
    "\n",
    "data_resampled['close'] = data_resampled['last']\n",
    "data_resampled['open'] = data_resampled['first']\n",
    "data_resampled['high'] = data_resampled['amax']\n",
    "data_resampled['low'] = data_resampled['amin']\n",
    "data_resampled['volume'] = data_resampled['sum']\n",
    "data_resampled.index.name = 'datetime'\n",
    "\n",
    "data_resampled\n",
    "# rename columns"
   ]
  },
  {
   "cell_type": "code",
   "execution_count": null,
   "metadata": {},
   "outputs": [],
   "source": [
    "data_resampled['log_ret'] = (np.log(data_resampled['close']) - np.log(data_resampled['close'].shift(1)))\n",
    "data_resampled['roll_std'] = data_resampled['log_ret'].rolling(window=336).std() # 336 is the number of 30mins interval in week\n",
    "data_resampled['roll_std'].plot(figsize=(8,4))"
   ]
  },
  {
   "cell_type": "markdown",
   "metadata": {},
   "source": [
    "## Backtrader"
   ]
  },
  {
   "cell_type": "code",
   "execution_count": null,
   "metadata": {},
   "outputs": [],
   "source": [
    "from Strategies.GoldenCross import GoldenCross\n",
    "from Strategies.BuyHold import BuyHold\n",
    "\n",
    "# Create a cerebro entity\n",
    "cerebro = bt.Cerebro()\n",
    "\n",
    "# Add a strategy\n",
    "cerebro.addstrategy(GoldenCross)\n",
    "\n",
    "# Create a Data Feed\n",
    "data = bt.feeds.PandasData(dataname=data_resampled[:2000])\n",
    "\n",
    "# Add the Data Feed to Cerebro\n",
    "cerebro.adddata(data)\n",
    "\n",
    "cerebro.addwriter(bt.WriterFile, out='./Strategies/logging/golden_cross2.csv', csv=True)\n",
    "\n",
    "# Set our desired cash start\n",
    "cerebro.broker.setcash(200000.0)\n",
    "# Add a FixedSize sizer according to the stake\n",
    "# cerebro.addsizer(bt.sizers.PercentSizer, percents=10)\n",
    "# cerebro.broker.setcommission(commission=0.0007) \n",
    "\n",
    "# Print out the starting conditions\n",
    "print('Starting Portfolio Value: %.2f' % cerebro.broker.getvalue())\n",
    "\n",
    "# Run over everything\n",
    "\n",
    "\n",
    "cerebro.run()\n",
    "\n",
    "plt.rcParams['figure.figsize']=[22, 16]\n",
    "cerebro.plot()\n",
    "# Print out the final result\n",
    "print('Final Portfolio Value: %.2f' % cerebro.broker.getvalue())\n",
    "\n",
    "# figure out what's wrong with stop losses\n"
   ]
  },
  {
   "cell_type": "code",
   "execution_count": null,
   "metadata": {},
   "outputs": [],
   "source": [
    "strategy_results = pd.read_csv('./Strategies/logging/golden_cross2.csv', header=1, index_col='Id').dropna(thresh=3)\n",
    "strategy_results['datetime'] = pd.to_datetime(strategy_results['datetime'])\n",
    "print(strategy_results.shape)"
   ]
  },
  {
   "cell_type": "code",
   "execution_count": null,
   "metadata": {},
   "outputs": [],
   "source": [
    "strategy_and_indic = pd.merge(data_resampled, strategy_results, left_index=True, right_on='datetime', how='outer')\n",
    "print(strategy_and_indic.columns)\n",
    "columns_to_keep = ['datetime', 'open_x', 'close_x', 'high_x', 'low_x', 'cash', 'value', 'buy', 'sell', 'pnlplus', 'pnlminus', 'sma', 'sma.1', 'crossover']\n",
    "strategy_and_indic[columns_to_keep].to_csv('./Strategies/logging/golden_cross_cl.csv')"
   ]
  },
  {
   "cell_type": "code",
   "execution_count": null,
   "metadata": {},
   "outputs": [],
   "source": [
    "# def saveplots(cerebro, numfigs=1, iplot=True, start=None, end=None,\n",
    "#              width=16, height=9, dpi=300, tight=True, use=None, file_path = '', **kwargs):\n",
    "\n",
    "#         from backtrader import plot\n",
    "#         if cerebro.p.oldsync:\n",
    "#             plotter = plot.Plot_OldSync(**kwargs)\n",
    "#         else:\n",
    "#             plotter = plot.Plot(**kwargs)\n",
    "\n",
    "#         figs = []\n",
    "#         for stratlist in cerebro.runstrats:\n",
    "#             for si, strat in enumerate(stratlist):\n",
    "#                 rfig = plotter.plot(strat, figid=si * 100,\n",
    "#                                     numfigs=numfigs, iplot=iplot,\n",
    "#                                     start=start, end=end, use=use)\n",
    "#                 figs.append(rfig)\n",
    "\n",
    "#         for fig in figs:\n",
    "#             for f in fig:\n",
    "#                 f.savefig(file_path, bbox_inches='tight')\n",
    "#         # return figs\n",
    "\n",
    "# saveplots(cerebro, file_path = 'savefig.png') "
   ]
  },
  {
   "cell_type": "markdown",
   "metadata": {},
   "source": [
    "## My trading functions"
   ]
  },
  {
   "cell_type": "code",
   "execution_count": null,
   "metadata": {},
   "outputs": [],
   "source": [
    "## Roadmap\n",
    "# for each trade I need entry price, closing price, number of periods, time in the trade, min, max, volatility V \n",
    "# make execution assumptions: conservative: enter trade next open bar, exit trade next open bar V\n",
    "# add stops and trailing stops\n",
    "# pull more data\n",
    "# add single strategy to binance account with cctx\n",
    "# backtest multiple strategies across multiple pairs\n",
    "# deploy multiple strategies"
   ]
  },
  {
   "cell_type": "code",
   "execution_count": null,
   "metadata": {},
   "outputs": [],
   "source": [
    "import ccxt\n",
    "import ta\n",
    "from ta.volatility import BollingerBands, AverageTrueRange\n",
    "from ta.trend import EMAIndicator\n",
    "import config\n",
    "import pandas as pd\n",
    "import plotly.graph_objects as go\n",
    "from plotly.subplots import make_subplots"
   ]
  },
  {
   "cell_type": "code",
   "execution_count": null,
   "metadata": {},
   "outputs": [],
   "source": [
    "## Exchange connectivity\n",
    "exchange = ccxt.binance(\n",
    "    {\n",
    "        'apiKey': config.BINANCE_API_KEY,\n",
    "        'secret': config.BINANCE_SECRET_KEY\n",
    "    }\n",
    ")\n",
    "\n",
    "markets = exchange.load_markets()\n",
    "\n",
    "bars = exchange.fetch_ohlcv('ETH/USDT', limit=20) # most recent candle keeps evolving"
   ]
  },
  {
   "cell_type": "code",
   "execution_count": null,
   "metadata": {},
   "outputs": [],
   "source": [
    "df =data_resampled[['open', 'high', 'low', 'close', 'volume']].copy() # pd.DataFrame(bars, columns=['timestamp', 'open', 'high', 'low', 'close', 'volume'])\n",
    "\n",
    "## Create Indicators\n",
    "# Bollinger Bands\n",
    "bb_indicator = BollingerBands(df['close'], window=20)\n",
    "\n",
    "df['upper_band'] = bb_indicator.bollinger_hband()\n",
    "df['lower_band'] = bb_indicator.bollinger_lband()\n",
    "df['moving_average'] = bb_indicator.bollinger_mavg()\n",
    "\n",
    "# Average True Range\n",
    "atr_indicator = AverageTrueRange(df['high'], df['low'], df['close'])\n",
    "df['atr'] = atr_indicator.average_true_range()\n",
    "\n",
    "# Moving Averages\n",
    "ema50_indicator = EMAIndicator(df['close'], 50)\n",
    "df['ema_50'] = ema50_indicator.ema_indicator()\n",
    "\n",
    "ema20_indicator = EMAIndicator(df['close'], 20)\n",
    "df['ema_20'] = ema20_indicator.ema_indicator()"
   ]
  },
  {
   "cell_type": "code",
   "execution_count": null,
   "metadata": {},
   "outputs": [],
   "source": [
    "## Generate Signals\n",
    "# EMA cross\n",
    "df['ema_cross_signal'] = np.where(\n",
    "    df['ema_20'] > df['ema_50'], 1, \n",
    "    np.where(df['ema_20'] < df['ema_50'], -1, 0))\n",
    "\n",
    "df['ema_cross_trades'] = np.where(\n",
    "    df['ema_cross'].diff() > 0, 'buy', \n",
    "    np.where(df['ema_cross'].diff() < 0, 'sell', 'hold'))\n",
    "\n",
    "df['ema_cross_position'] = np.where(\n",
    "    df['ema_cross'].diff() > 0, +1, \n",
    "    np.where(df['ema_cross'].diff() < 0, -1, 0))"
   ]
  },
  {
   "cell_type": "code",
   "execution_count": null,
   "metadata": {},
   "outputs": [],
   "source": [
    "## Backtesting\n",
    "initial_cash = 1000\n",
    "\n",
    "df['returns'] = np.log(df['close']) - np.log(df['close'].shift(1))\n",
    "df['ema_cross_returns'] = df['returns'] * df['ema_cross_signal']\n",
    "\n",
    "df['ema_cross_cum_performance'] = np.exp(df['ema_cross_returns'].cumsum())\n",
    "df['ema_cross_cash'] = df['ema_cross_cum_performance'] * initial_cash\n",
    "\n",
    "np.exp(df['returns'].cumsum()).plot(figsize=(8,4), legend=True) # reverse log returns to prices\n",
    "df['ema_cross_cum_performance'].plot(legend=True)"
   ]
  },
  {
   "cell_type": "code",
   "execution_count": 458,
   "metadata": {},
   "outputs": [],
   "source": [
    "# prepare df trades\n",
    "\n",
    "# get positions in the dataframe where indicator generates signals\n",
    "open_trades_idx = np.where(df['ema_cross_position']!=0)[0]\n",
    "# -2 because of shape is n rows and df is 0 indexed and because we do + 1 later - avoid out of bound error\n",
    "closing_trades_idx = np.append(open_trades_idx, df.shape[0]-2)[1:] \n",
    "df_trades = df.iloc[open_trades_idx][['ema_cross_position']].copy() # empty dataframe with only datetime index\n",
    "\n",
    "# entry and closing points\n",
    "df_trades['entry_price'] = df.iloc[open_trades_idx+1]['open'].values # assume entry trade is executed at the next bar open\n",
    "df_trades['closing_price'] = df.iloc[closing_trades_idx+1]['open'].values # assume closing is executed at the next bar open\n",
    "\n",
    "# trade discrete returns\n",
    "df_trades['discrete_return'] = (df_trades['closing_price'] / df_trades['entry_price']) - 1\n",
    "\n",
    "# how long are the trades \n",
    "df_trades['trade_n_periods'] = closing_trades_idx - open_trades_idx\n",
    "df_trades['trade_duration'] = df.iloc[closing_trades_idx].index - df.iloc[open_trades_idx].index\n",
    "\n",
    "# what happened throughout the trade\n",
    "df['trade_grouper'] = np.nan\n",
    "df.loc[df.iloc[open_trades_idx].index, 'trade_grouper'] = df.iloc[open_trades_idx].index\n",
    "df['trade_grouper'] = df['trade_grouper'].fillna(method='ffill')\n",
    "df.head(60)\n",
    "\n",
    "all_trades_list = []\n",
    "for name, sub_df in df.groupby(by='trade_grouper'):\n",
    "    max_val = sub_df['high'].max()\n",
    "    min_val = sub_df['low'].min()\n",
    "    returns_std = sub_df['returns'].std()\n",
    "\n",
    "    all_trades_list.append([name, max_val, min_val, returns_std])\n",
    "\n",
    "\n",
    "intra_trade_stats = pd.DataFrame(all_trades_list, columns=['datetime', 'px_high', 'px_low', 'returns_std']).set_index('datetime')\n",
    "df_trades = pd.merge(df_trades, intra_trade_stats, left_index=True, right_index=True)\n",
    "\n",
    "\n",
    "def max_dd(row):\n",
    "    ''' Measure of how \"painful\" holding the trade was '''\n",
    "    if row['ema_cross_position'] == 1:\n",
    "        return row['entry_price'] - row['px_low']\n",
    "    elif row['ema_cross_position'] == -1:\n",
    "        return - (row['entry_price'] - row['px_high'])\n",
    "    else:\n",
    "        return 0\n",
    "\n",
    "df_trades['dd'] = df_trades.apply(max_dd, axis=1)\n",
    "\n",
    "# calculate trade returns and jump into risk management / stop losses\n"
   ]
  },
  {
   "cell_type": "code",
   "execution_count": 464,
   "metadata": {},
   "outputs": [
    {
     "ename": "KeyError",
     "evalue": "'closing_price'",
     "output_type": "error",
     "traceback": [
      "\u001b[0;31m---------------------------------------------------------------------------\u001b[0m",
      "\u001b[0;31mParserError\u001b[0m                               Traceback (most recent call last)",
      "\u001b[0;32mpandas/_libs/tslibs/conversion.pyx\u001b[0m in \u001b[0;36mpandas._libs.tslibs.conversion._convert_str_to_tsobject\u001b[0;34m()\u001b[0m\n",
      "\u001b[0;32mpandas/_libs/tslibs/parsing.pyx\u001b[0m in \u001b[0;36mpandas._libs.tslibs.parsing.parse_datetime_string\u001b[0;34m()\u001b[0m\n",
      "\u001b[0;32m~/Python_vsc_dir/RL_Trader/rltrader_env/lib/python3.8/site-packages/dateutil/parser/_parser.py\u001b[0m in \u001b[0;36mparse\u001b[0;34m(timestr, parserinfo, **kwargs)\u001b[0m\n\u001b[1;32m   1373\u001b[0m     \u001b[0;32melse\u001b[0m\u001b[0;34m:\u001b[0m\u001b[0;34m\u001b[0m\u001b[0;34m\u001b[0m\u001b[0m\n\u001b[0;32m-> 1374\u001b[0;31m         \u001b[0;32mreturn\u001b[0m \u001b[0mDEFAULTPARSER\u001b[0m\u001b[0;34m.\u001b[0m\u001b[0mparse\u001b[0m\u001b[0;34m(\u001b[0m\u001b[0mtimestr\u001b[0m\u001b[0;34m,\u001b[0m \u001b[0;34m**\u001b[0m\u001b[0mkwargs\u001b[0m\u001b[0;34m)\u001b[0m\u001b[0;34m\u001b[0m\u001b[0;34m\u001b[0m\u001b[0m\n\u001b[0m\u001b[1;32m   1375\u001b[0m \u001b[0;34m\u001b[0m\u001b[0m\n",
      "\u001b[0;32m~/Python_vsc_dir/RL_Trader/rltrader_env/lib/python3.8/site-packages/dateutil/parser/_parser.py\u001b[0m in \u001b[0;36mparse\u001b[0;34m(self, timestr, default, ignoretz, tzinfos, **kwargs)\u001b[0m\n\u001b[1;32m    648\u001b[0m         \u001b[0;32mif\u001b[0m \u001b[0mres\u001b[0m \u001b[0;32mis\u001b[0m \u001b[0;32mNone\u001b[0m\u001b[0;34m:\u001b[0m\u001b[0;34m\u001b[0m\u001b[0;34m\u001b[0m\u001b[0m\n\u001b[0;32m--> 649\u001b[0;31m             \u001b[0;32mraise\u001b[0m \u001b[0mParserError\u001b[0m\u001b[0;34m(\u001b[0m\u001b[0;34m\"Unknown string format: %s\"\u001b[0m\u001b[0;34m,\u001b[0m \u001b[0mtimestr\u001b[0m\u001b[0;34m)\u001b[0m\u001b[0;34m\u001b[0m\u001b[0;34m\u001b[0m\u001b[0m\n\u001b[0m\u001b[1;32m    650\u001b[0m \u001b[0;34m\u001b[0m\u001b[0m\n",
      "\u001b[0;31mParserError\u001b[0m: Unknown string format: closing_price",
      "\nDuring handling of the above exception, another exception occurred:\n",
      "\u001b[0;31mValueError\u001b[0m                                Traceback (most recent call last)",
      "\u001b[0;32m~/Python_vsc_dir/RL_Trader/rltrader_env/lib/python3.8/site-packages/pandas/core/indexes/datetimes.py\u001b[0m in \u001b[0;36mget_loc\u001b[0;34m(self, key, method, tolerance)\u001b[0m\n\u001b[1;32m    663\u001b[0m             \u001b[0;32mtry\u001b[0m\u001b[0;34m:\u001b[0m\u001b[0;34m\u001b[0m\u001b[0;34m\u001b[0m\u001b[0m\n\u001b[0;32m--> 664\u001b[0;31m                 \u001b[0mkey\u001b[0m \u001b[0;34m=\u001b[0m \u001b[0mself\u001b[0m\u001b[0;34m.\u001b[0m\u001b[0m_maybe_cast_for_get_loc\u001b[0m\u001b[0;34m(\u001b[0m\u001b[0mkey\u001b[0m\u001b[0;34m)\u001b[0m\u001b[0;34m\u001b[0m\u001b[0;34m\u001b[0m\u001b[0m\n\u001b[0m\u001b[1;32m    665\u001b[0m             \u001b[0;32mexcept\u001b[0m \u001b[0mValueError\u001b[0m \u001b[0;32mas\u001b[0m \u001b[0merr\u001b[0m\u001b[0;34m:\u001b[0m\u001b[0;34m\u001b[0m\u001b[0;34m\u001b[0m\u001b[0m\n",
      "\u001b[0;32m~/Python_vsc_dir/RL_Trader/rltrader_env/lib/python3.8/site-packages/pandas/core/indexes/datetimes.py\u001b[0m in \u001b[0;36m_maybe_cast_for_get_loc\u001b[0;34m(self, key)\u001b[0m\n\u001b[1;32m    691\u001b[0m         \u001b[0;31m# needed to localize naive datetimes or dates (GH 35690)\u001b[0m\u001b[0;34m\u001b[0m\u001b[0;34m\u001b[0m\u001b[0;34m\u001b[0m\u001b[0m\n\u001b[0;32m--> 692\u001b[0;31m         \u001b[0mkey\u001b[0m \u001b[0;34m=\u001b[0m \u001b[0mTimestamp\u001b[0m\u001b[0;34m(\u001b[0m\u001b[0mkey\u001b[0m\u001b[0;34m)\u001b[0m\u001b[0;34m\u001b[0m\u001b[0;34m\u001b[0m\u001b[0m\n\u001b[0m\u001b[1;32m    693\u001b[0m         \u001b[0;32mif\u001b[0m \u001b[0mkey\u001b[0m\u001b[0;34m.\u001b[0m\u001b[0mtzinfo\u001b[0m \u001b[0;32mis\u001b[0m \u001b[0;32mNone\u001b[0m\u001b[0;34m:\u001b[0m\u001b[0;34m\u001b[0m\u001b[0;34m\u001b[0m\u001b[0m\n",
      "\u001b[0;32mpandas/_libs/tslibs/timestamps.pyx\u001b[0m in \u001b[0;36mpandas._libs.tslibs.timestamps.Timestamp.__new__\u001b[0;34m()\u001b[0m\n",
      "\u001b[0;32mpandas/_libs/tslibs/conversion.pyx\u001b[0m in \u001b[0;36mpandas._libs.tslibs.conversion.convert_to_tsobject\u001b[0;34m()\u001b[0m\n",
      "\u001b[0;32mpandas/_libs/tslibs/conversion.pyx\u001b[0m in \u001b[0;36mpandas._libs.tslibs.conversion._convert_str_to_tsobject\u001b[0;34m()\u001b[0m\n",
      "\u001b[0;31mValueError\u001b[0m: could not convert string to Timestamp",
      "\nThe above exception was the direct cause of the following exception:\n",
      "\u001b[0;31mKeyError\u001b[0m                                  Traceback (most recent call last)",
      "\u001b[0;32m<ipython-input-464-f5278c1426a0>\u001b[0m in \u001b[0;36m<module>\u001b[0;34m\u001b[0m\n\u001b[0;32m----> 1\u001b[0;31m \u001b[0mdf_trades\u001b[0m\u001b[0;34m.\u001b[0m\u001b[0mapply\u001b[0m\u001b[0;34m(\u001b[0m\u001b[0;32mlambda\u001b[0m \u001b[0mx\u001b[0m\u001b[0;34m:\u001b[0m \u001b[0;34m(\u001b[0m\u001b[0mx\u001b[0m\u001b[0;34m[\u001b[0m\u001b[0;34m'closing_price'\u001b[0m\u001b[0;34m]\u001b[0m \u001b[0;34m/\u001b[0m \u001b[0mx\u001b[0m\u001b[0;34m[\u001b[0m\u001b[0;34m'entry_price'\u001b[0m\u001b[0;34m]\u001b[0m\u001b[0;34m)\u001b[0m \u001b[0;34m-\u001b[0m \u001b[0;36m1\u001b[0m\u001b[0;34m)\u001b[0m\u001b[0;34m\u001b[0m\u001b[0;34m\u001b[0m\u001b[0m\n\u001b[0m",
      "\u001b[0;32m~/Python_vsc_dir/RL_Trader/rltrader_env/lib/python3.8/site-packages/pandas/core/frame.py\u001b[0m in \u001b[0;36mapply\u001b[0;34m(self, func, axis, raw, result_type, args, **kwds)\u001b[0m\n\u001b[1;32m   7763\u001b[0m             \u001b[0mkwds\u001b[0m\u001b[0;34m=\u001b[0m\u001b[0mkwds\u001b[0m\u001b[0;34m,\u001b[0m\u001b[0;34m\u001b[0m\u001b[0;34m\u001b[0m\u001b[0m\n\u001b[1;32m   7764\u001b[0m         )\n\u001b[0;32m-> 7765\u001b[0;31m         \u001b[0;32mreturn\u001b[0m \u001b[0mop\u001b[0m\u001b[0;34m.\u001b[0m\u001b[0mget_result\u001b[0m\u001b[0;34m(\u001b[0m\u001b[0;34m)\u001b[0m\u001b[0;34m\u001b[0m\u001b[0;34m\u001b[0m\u001b[0m\n\u001b[0m\u001b[1;32m   7766\u001b[0m \u001b[0;34m\u001b[0m\u001b[0m\n\u001b[1;32m   7767\u001b[0m     \u001b[0;32mdef\u001b[0m \u001b[0mapplymap\u001b[0m\u001b[0;34m(\u001b[0m\u001b[0mself\u001b[0m\u001b[0;34m,\u001b[0m \u001b[0mfunc\u001b[0m\u001b[0;34m,\u001b[0m \u001b[0mna_action\u001b[0m\u001b[0;34m:\u001b[0m \u001b[0mOptional\u001b[0m\u001b[0;34m[\u001b[0m\u001b[0mstr\u001b[0m\u001b[0;34m]\u001b[0m \u001b[0;34m=\u001b[0m \u001b[0;32mNone\u001b[0m\u001b[0;34m)\u001b[0m \u001b[0;34m->\u001b[0m \u001b[0mDataFrame\u001b[0m\u001b[0;34m:\u001b[0m\u001b[0;34m\u001b[0m\u001b[0;34m\u001b[0m\u001b[0m\n",
      "\u001b[0;32m~/Python_vsc_dir/RL_Trader/rltrader_env/lib/python3.8/site-packages/pandas/core/apply.py\u001b[0m in \u001b[0;36mget_result\u001b[0;34m(self)\u001b[0m\n\u001b[1;32m    183\u001b[0m             \u001b[0;32mreturn\u001b[0m \u001b[0mself\u001b[0m\u001b[0;34m.\u001b[0m\u001b[0mapply_raw\u001b[0m\u001b[0;34m(\u001b[0m\u001b[0;34m)\u001b[0m\u001b[0;34m\u001b[0m\u001b[0;34m\u001b[0m\u001b[0m\n\u001b[1;32m    184\u001b[0m \u001b[0;34m\u001b[0m\u001b[0m\n\u001b[0;32m--> 185\u001b[0;31m         \u001b[0;32mreturn\u001b[0m \u001b[0mself\u001b[0m\u001b[0;34m.\u001b[0m\u001b[0mapply_standard\u001b[0m\u001b[0;34m(\u001b[0m\u001b[0;34m)\u001b[0m\u001b[0;34m\u001b[0m\u001b[0;34m\u001b[0m\u001b[0m\n\u001b[0m\u001b[1;32m    186\u001b[0m \u001b[0;34m\u001b[0m\u001b[0m\n\u001b[1;32m    187\u001b[0m     \u001b[0;32mdef\u001b[0m \u001b[0mapply_empty_result\u001b[0m\u001b[0;34m(\u001b[0m\u001b[0mself\u001b[0m\u001b[0;34m)\u001b[0m\u001b[0;34m:\u001b[0m\u001b[0;34m\u001b[0m\u001b[0;34m\u001b[0m\u001b[0m\n",
      "\u001b[0;32m~/Python_vsc_dir/RL_Trader/rltrader_env/lib/python3.8/site-packages/pandas/core/apply.py\u001b[0m in \u001b[0;36mapply_standard\u001b[0;34m(self)\u001b[0m\n\u001b[1;32m    274\u001b[0m \u001b[0;34m\u001b[0m\u001b[0m\n\u001b[1;32m    275\u001b[0m     \u001b[0;32mdef\u001b[0m \u001b[0mapply_standard\u001b[0m\u001b[0;34m(\u001b[0m\u001b[0mself\u001b[0m\u001b[0;34m)\u001b[0m\u001b[0;34m:\u001b[0m\u001b[0;34m\u001b[0m\u001b[0;34m\u001b[0m\u001b[0m\n\u001b[0;32m--> 276\u001b[0;31m         \u001b[0mresults\u001b[0m\u001b[0;34m,\u001b[0m \u001b[0mres_index\u001b[0m \u001b[0;34m=\u001b[0m \u001b[0mself\u001b[0m\u001b[0;34m.\u001b[0m\u001b[0mapply_series_generator\u001b[0m\u001b[0;34m(\u001b[0m\u001b[0;34m)\u001b[0m\u001b[0;34m\u001b[0m\u001b[0;34m\u001b[0m\u001b[0m\n\u001b[0m\u001b[1;32m    277\u001b[0m \u001b[0;34m\u001b[0m\u001b[0m\n\u001b[1;32m    278\u001b[0m         \u001b[0;31m# wrap results\u001b[0m\u001b[0;34m\u001b[0m\u001b[0;34m\u001b[0m\u001b[0;34m\u001b[0m\u001b[0m\n",
      "\u001b[0;32m~/Python_vsc_dir/RL_Trader/rltrader_env/lib/python3.8/site-packages/pandas/core/apply.py\u001b[0m in \u001b[0;36mapply_series_generator\u001b[0;34m(self)\u001b[0m\n\u001b[1;32m    288\u001b[0m             \u001b[0;32mfor\u001b[0m \u001b[0mi\u001b[0m\u001b[0;34m,\u001b[0m \u001b[0mv\u001b[0m \u001b[0;32min\u001b[0m \u001b[0menumerate\u001b[0m\u001b[0;34m(\u001b[0m\u001b[0mseries_gen\u001b[0m\u001b[0;34m)\u001b[0m\u001b[0;34m:\u001b[0m\u001b[0;34m\u001b[0m\u001b[0;34m\u001b[0m\u001b[0m\n\u001b[1;32m    289\u001b[0m                 \u001b[0;31m# ignore SettingWithCopy here in case the user mutates\u001b[0m\u001b[0;34m\u001b[0m\u001b[0;34m\u001b[0m\u001b[0;34m\u001b[0m\u001b[0m\n\u001b[0;32m--> 290\u001b[0;31m                 \u001b[0mresults\u001b[0m\u001b[0;34m[\u001b[0m\u001b[0mi\u001b[0m\u001b[0;34m]\u001b[0m \u001b[0;34m=\u001b[0m \u001b[0mself\u001b[0m\u001b[0;34m.\u001b[0m\u001b[0mf\u001b[0m\u001b[0;34m(\u001b[0m\u001b[0mv\u001b[0m\u001b[0;34m)\u001b[0m\u001b[0;34m\u001b[0m\u001b[0;34m\u001b[0m\u001b[0m\n\u001b[0m\u001b[1;32m    291\u001b[0m                 \u001b[0;32mif\u001b[0m \u001b[0misinstance\u001b[0m\u001b[0;34m(\u001b[0m\u001b[0mresults\u001b[0m\u001b[0;34m[\u001b[0m\u001b[0mi\u001b[0m\u001b[0;34m]\u001b[0m\u001b[0;34m,\u001b[0m \u001b[0mABCSeries\u001b[0m\u001b[0;34m)\u001b[0m\u001b[0;34m:\u001b[0m\u001b[0;34m\u001b[0m\u001b[0;34m\u001b[0m\u001b[0m\n\u001b[1;32m    292\u001b[0m                     \u001b[0;31m# If we have a view on v, we need to make a copy because\u001b[0m\u001b[0;34m\u001b[0m\u001b[0;34m\u001b[0m\u001b[0;34m\u001b[0m\u001b[0m\n",
      "\u001b[0;32m<ipython-input-464-f5278c1426a0>\u001b[0m in \u001b[0;36m<lambda>\u001b[0;34m(x)\u001b[0m\n\u001b[0;32m----> 1\u001b[0;31m \u001b[0mdf_trades\u001b[0m\u001b[0;34m.\u001b[0m\u001b[0mapply\u001b[0m\u001b[0;34m(\u001b[0m\u001b[0;32mlambda\u001b[0m \u001b[0mx\u001b[0m\u001b[0;34m:\u001b[0m \u001b[0;34m(\u001b[0m\u001b[0mx\u001b[0m\u001b[0;34m[\u001b[0m\u001b[0;34m'closing_price'\u001b[0m\u001b[0;34m]\u001b[0m \u001b[0;34m/\u001b[0m \u001b[0mx\u001b[0m\u001b[0;34m[\u001b[0m\u001b[0;34m'entry_price'\u001b[0m\u001b[0;34m]\u001b[0m\u001b[0;34m)\u001b[0m \u001b[0;34m-\u001b[0m \u001b[0;36m1\u001b[0m\u001b[0;34m)\u001b[0m\u001b[0;34m\u001b[0m\u001b[0;34m\u001b[0m\u001b[0m\n\u001b[0m",
      "\u001b[0;32m~/Python_vsc_dir/RL_Trader/rltrader_env/lib/python3.8/site-packages/pandas/core/series.py\u001b[0m in \u001b[0;36m__getitem__\u001b[0;34m(self, key)\u001b[0m\n\u001b[1;32m    822\u001b[0m \u001b[0;34m\u001b[0m\u001b[0m\n\u001b[1;32m    823\u001b[0m         \u001b[0;32melif\u001b[0m \u001b[0mkey_is_scalar\u001b[0m\u001b[0;34m:\u001b[0m\u001b[0;34m\u001b[0m\u001b[0;34m\u001b[0m\u001b[0m\n\u001b[0;32m--> 824\u001b[0;31m             \u001b[0;32mreturn\u001b[0m \u001b[0mself\u001b[0m\u001b[0;34m.\u001b[0m\u001b[0m_get_value\u001b[0m\u001b[0;34m(\u001b[0m\u001b[0mkey\u001b[0m\u001b[0;34m)\u001b[0m\u001b[0;34m\u001b[0m\u001b[0;34m\u001b[0m\u001b[0m\n\u001b[0m\u001b[1;32m    825\u001b[0m \u001b[0;34m\u001b[0m\u001b[0m\n\u001b[1;32m    826\u001b[0m         \u001b[0;32mif\u001b[0m \u001b[0mis_hashable\u001b[0m\u001b[0;34m(\u001b[0m\u001b[0mkey\u001b[0m\u001b[0;34m)\u001b[0m\u001b[0;34m:\u001b[0m\u001b[0;34m\u001b[0m\u001b[0;34m\u001b[0m\u001b[0m\n",
      "\u001b[0;32m~/Python_vsc_dir/RL_Trader/rltrader_env/lib/python3.8/site-packages/pandas/core/series.py\u001b[0m in \u001b[0;36m_get_value\u001b[0;34m(self, label, takeable)\u001b[0m\n\u001b[1;32m    930\u001b[0m \u001b[0;34m\u001b[0m\u001b[0m\n\u001b[1;32m    931\u001b[0m         \u001b[0;31m# Similar to Index.get_value, but we do not fall back to positional\u001b[0m\u001b[0;34m\u001b[0m\u001b[0;34m\u001b[0m\u001b[0;34m\u001b[0m\u001b[0m\n\u001b[0;32m--> 932\u001b[0;31m         \u001b[0mloc\u001b[0m \u001b[0;34m=\u001b[0m \u001b[0mself\u001b[0m\u001b[0;34m.\u001b[0m\u001b[0mindex\u001b[0m\u001b[0;34m.\u001b[0m\u001b[0mget_loc\u001b[0m\u001b[0;34m(\u001b[0m\u001b[0mlabel\u001b[0m\u001b[0;34m)\u001b[0m\u001b[0;34m\u001b[0m\u001b[0;34m\u001b[0m\u001b[0m\n\u001b[0m\u001b[1;32m    933\u001b[0m         \u001b[0;32mreturn\u001b[0m \u001b[0mself\u001b[0m\u001b[0;34m.\u001b[0m\u001b[0mindex\u001b[0m\u001b[0;34m.\u001b[0m\u001b[0m_get_values_for_loc\u001b[0m\u001b[0;34m(\u001b[0m\u001b[0mself\u001b[0m\u001b[0;34m,\u001b[0m \u001b[0mloc\u001b[0m\u001b[0;34m,\u001b[0m \u001b[0mlabel\u001b[0m\u001b[0;34m)\u001b[0m\u001b[0;34m\u001b[0m\u001b[0;34m\u001b[0m\u001b[0m\n\u001b[1;32m    934\u001b[0m \u001b[0;34m\u001b[0m\u001b[0m\n",
      "\u001b[0;32m~/Python_vsc_dir/RL_Trader/rltrader_env/lib/python3.8/site-packages/pandas/core/indexes/datetimes.py\u001b[0m in \u001b[0;36mget_loc\u001b[0;34m(self, key, method, tolerance)\u001b[0m\n\u001b[1;32m    664\u001b[0m                 \u001b[0mkey\u001b[0m \u001b[0;34m=\u001b[0m \u001b[0mself\u001b[0m\u001b[0;34m.\u001b[0m\u001b[0m_maybe_cast_for_get_loc\u001b[0m\u001b[0;34m(\u001b[0m\u001b[0mkey\u001b[0m\u001b[0;34m)\u001b[0m\u001b[0;34m\u001b[0m\u001b[0;34m\u001b[0m\u001b[0m\n\u001b[1;32m    665\u001b[0m             \u001b[0;32mexcept\u001b[0m \u001b[0mValueError\u001b[0m \u001b[0;32mas\u001b[0m \u001b[0merr\u001b[0m\u001b[0;34m:\u001b[0m\u001b[0;34m\u001b[0m\u001b[0;34m\u001b[0m\u001b[0m\n\u001b[0;32m--> 666\u001b[0;31m                 \u001b[0;32mraise\u001b[0m \u001b[0mKeyError\u001b[0m\u001b[0;34m(\u001b[0m\u001b[0mkey\u001b[0m\u001b[0;34m)\u001b[0m \u001b[0;32mfrom\u001b[0m \u001b[0merr\u001b[0m\u001b[0;34m\u001b[0m\u001b[0;34m\u001b[0m\u001b[0m\n\u001b[0m\u001b[1;32m    667\u001b[0m \u001b[0;34m\u001b[0m\u001b[0m\n\u001b[1;32m    668\u001b[0m         \u001b[0;32melif\u001b[0m \u001b[0misinstance\u001b[0m\u001b[0;34m(\u001b[0m\u001b[0mkey\u001b[0m\u001b[0;34m,\u001b[0m \u001b[0mtimedelta\u001b[0m\u001b[0;34m)\u001b[0m\u001b[0;34m:\u001b[0m\u001b[0;34m\u001b[0m\u001b[0;34m\u001b[0m\u001b[0m\n",
      "\u001b[0;31mKeyError\u001b[0m: 'closing_price'"
     ]
    }
   ],
   "source": [
    "df_trades.apply(lambda x: (x['closing_price'] / x['entry_price']) - 1)"
   ]
  },
  {
   "cell_type": "code",
   "execution_count": 460,
   "metadata": {},
   "outputs": [],
   "source": [
    "## Metrics\n",
    "# Net Profit\n",
    "net_profit = df['ema_cross_cash'][-1] - initial_cash \n",
    "\n",
    "# Max Drowdown\n",
    "max_dd = df_trades['dd'].max()\n",
    "\n",
    "# Win Ratio\n"
   ]
  },
  {
   "cell_type": "code",
   "execution_count": null,
   "metadata": {},
   "outputs": [],
   "source": []
  },
  {
   "cell_type": "code",
   "execution_count": 461,
   "metadata": {},
   "outputs": [
    {
     "data": {
      "text/plain": [
       "(4434.277784299962, 3073.0216667346685)"
      ]
     },
     "execution_count": 461,
     "metadata": {},
     "output_type": "execute_result"
    }
   ],
   "source": [
    "net_profit, max_dd"
   ]
  },
  {
   "cell_type": "code",
   "execution_count": 463,
   "metadata": {},
   "outputs": [
    {
     "data": {
      "text/html": [
       "<div>\n",
       "<style scoped>\n",
       "    .dataframe tbody tr th:only-of-type {\n",
       "        vertical-align: middle;\n",
       "    }\n",
       "\n",
       "    .dataframe tbody tr th {\n",
       "        vertical-align: top;\n",
       "    }\n",
       "\n",
       "    .dataframe thead th {\n",
       "        text-align: right;\n",
       "    }\n",
       "</style>\n",
       "<table border=\"1\" class=\"dataframe\">\n",
       "  <thead>\n",
       "    <tr style=\"text-align: right;\">\n",
       "      <th></th>\n",
       "      <th>ema_cross_position</th>\n",
       "      <th>entry_price</th>\n",
       "      <th>closing_price</th>\n",
       "      <th>trade_n_periods</th>\n",
       "      <th>trade_duration</th>\n",
       "      <th>px_high</th>\n",
       "      <th>px_low</th>\n",
       "      <th>returns_std</th>\n",
       "      <th>dd</th>\n",
       "    </tr>\n",
       "    <tr>\n",
       "      <th>datetime</th>\n",
       "      <th></th>\n",
       "      <th></th>\n",
       "      <th></th>\n",
       "      <th></th>\n",
       "      <th></th>\n",
       "      <th></th>\n",
       "      <th></th>\n",
       "      <th></th>\n",
       "      <th></th>\n",
       "    </tr>\n",
       "  </thead>\n",
       "  <tbody>\n",
       "    <tr>\n",
       "      <th>2020-11-12 01:00:00</th>\n",
       "      <td>1</td>\n",
       "      <td>15602.266253</td>\n",
       "      <td>16172.253856</td>\n",
       "      <td>106</td>\n",
       "      <td>2 days 05:00:00</td>\n",
       "      <td>16459.977145</td>\n",
       "      <td>15577.496531</td>\n",
       "      <td>0.003723</td>\n",
       "      <td>24.769723</td>\n",
       "    </tr>\n",
       "    <tr>\n",
       "      <th>2020-11-14 06:00:00</th>\n",
       "      <td>-1</td>\n",
       "      <td>16172.253856</td>\n",
       "      <td>16117.802589</td>\n",
       "      <td>54</td>\n",
       "      <td>1 days 03:00:00</td>\n",
       "      <td>16200.401434</td>\n",
       "      <td>15728.018881</td>\n",
       "      <td>0.003627</td>\n",
       "      <td>28.147579</td>\n",
       "    </tr>\n",
       "    <tr>\n",
       "      <th>2020-11-15 09:00:00</th>\n",
       "      <td>1</td>\n",
       "      <td>16117.802589</td>\n",
       "      <td>15882.015012</td>\n",
       "      <td>18</td>\n",
       "      <td>0 days 09:00:00</td>\n",
       "      <td>16148.513662</td>\n",
       "      <td>15964.215493</td>\n",
       "      <td>0.001961</td>\n",
       "      <td>153.587095</td>\n",
       "    </tr>\n",
       "    <tr>\n",
       "      <th>2020-11-15 18:00:00</th>\n",
       "      <td>-1</td>\n",
       "      <td>15882.015012</td>\n",
       "      <td>16133.933620</td>\n",
       "      <td>23</td>\n",
       "      <td>0 days 11:30:00</td>\n",
       "      <td>16041.572305</td>\n",
       "      <td>15791.911717</td>\n",
       "      <td>0.002677</td>\n",
       "      <td>159.557293</td>\n",
       "    </tr>\n",
       "    <tr>\n",
       "      <th>2020-11-16 05:30:00</th>\n",
       "      <td>1</td>\n",
       "      <td>16133.933620</td>\n",
       "      <td>17525.977876</td>\n",
       "      <td>151</td>\n",
       "      <td>3 days 03:30:00</td>\n",
       "      <td>18446.418405</td>\n",
       "      <td>16054.259355</td>\n",
       "      <td>0.005904</td>\n",
       "      <td>79.674265</td>\n",
       "    </tr>\n",
       "    <tr>\n",
       "      <th>...</th>\n",
       "      <td>...</td>\n",
       "      <td>...</td>\n",
       "      <td>...</td>\n",
       "      <td>...</td>\n",
       "      <td>...</td>\n",
       "      <td>...</td>\n",
       "      <td>...</td>\n",
       "      <td>...</td>\n",
       "      <td>...</td>\n",
       "    </tr>\n",
       "    <tr>\n",
       "      <th>2021-03-26 08:00:00</th>\n",
       "      <td>1</td>\n",
       "      <td>53517.653382</td>\n",
       "      <td>55172.378570</td>\n",
       "      <td>121</td>\n",
       "      <td>2 days 12:30:00</td>\n",
       "      <td>56523.180023</td>\n",
       "      <td>52597.728468</td>\n",
       "      <td>0.004490</td>\n",
       "      <td>919.924914</td>\n",
       "    </tr>\n",
       "    <tr>\n",
       "      <th>2021-03-28 20:30:00</th>\n",
       "      <td>-1</td>\n",
       "      <td>55172.378570</td>\n",
       "      <td>57240.218968</td>\n",
       "      <td>25</td>\n",
       "      <td>0 days 12:30:00</td>\n",
       "      <td>56259.611864</td>\n",
       "      <td>54833.853787</td>\n",
       "      <td>0.004037</td>\n",
       "      <td>1087.233294</td>\n",
       "    </tr>\n",
       "    <tr>\n",
       "      <th>2021-03-29 09:00:00</th>\n",
       "      <td>1</td>\n",
       "      <td>57240.218968</td>\n",
       "      <td>57431.408258</td>\n",
       "      <td>99</td>\n",
       "      <td>2 days 01:30:00</td>\n",
       "      <td>59754.819768</td>\n",
       "      <td>56184.584676</td>\n",
       "      <td>0.004346</td>\n",
       "      <td>1055.634292</td>\n",
       "    </tr>\n",
       "    <tr>\n",
       "      <th>2021-03-31 10:30:00</th>\n",
       "      <td>-1</td>\n",
       "      <td>57431.408258</td>\n",
       "      <td>59089.338552</td>\n",
       "      <td>10</td>\n",
       "      <td>0 days 05:00:00</td>\n",
       "      <td>58753.153220</td>\n",
       "      <td>57377.346796</td>\n",
       "      <td>0.003770</td>\n",
       "      <td>1321.744962</td>\n",
       "    </tr>\n",
       "    <tr>\n",
       "      <th>2021-03-31 15:30:00</th>\n",
       "      <td>1</td>\n",
       "      <td>59089.338552</td>\n",
       "      <td>58797.627309</td>\n",
       "      <td>16</td>\n",
       "      <td>0 days 08:00:00</td>\n",
       "      <td>59537.414072</td>\n",
       "      <td>58447.390928</td>\n",
       "      <td>0.004832</td>\n",
       "      <td>641.947623</td>\n",
       "    </tr>\n",
       "  </tbody>\n",
       "</table>\n",
       "<p>123 rows × 9 columns</p>\n",
       "</div>"
      ],
      "text/plain": [
       "                     ema_cross_position   entry_price  closing_price  \\\n",
       "datetime                                                               \n",
       "2020-11-12 01:00:00                   1  15602.266253   16172.253856   \n",
       "2020-11-14 06:00:00                  -1  16172.253856   16117.802589   \n",
       "2020-11-15 09:00:00                   1  16117.802589   15882.015012   \n",
       "2020-11-15 18:00:00                  -1  15882.015012   16133.933620   \n",
       "2020-11-16 05:30:00                   1  16133.933620   17525.977876   \n",
       "...                                 ...           ...            ...   \n",
       "2021-03-26 08:00:00                   1  53517.653382   55172.378570   \n",
       "2021-03-28 20:30:00                  -1  55172.378570   57240.218968   \n",
       "2021-03-29 09:00:00                   1  57240.218968   57431.408258   \n",
       "2021-03-31 10:30:00                  -1  57431.408258   59089.338552   \n",
       "2021-03-31 15:30:00                   1  59089.338552   58797.627309   \n",
       "\n",
       "                     trade_n_periods  trade_duration       px_high  \\\n",
       "datetime                                                             \n",
       "2020-11-12 01:00:00              106 2 days 05:00:00  16459.977145   \n",
       "2020-11-14 06:00:00               54 1 days 03:00:00  16200.401434   \n",
       "2020-11-15 09:00:00               18 0 days 09:00:00  16148.513662   \n",
       "2020-11-15 18:00:00               23 0 days 11:30:00  16041.572305   \n",
       "2020-11-16 05:30:00              151 3 days 03:30:00  18446.418405   \n",
       "...                              ...             ...           ...   \n",
       "2021-03-26 08:00:00              121 2 days 12:30:00  56523.180023   \n",
       "2021-03-28 20:30:00               25 0 days 12:30:00  56259.611864   \n",
       "2021-03-29 09:00:00               99 2 days 01:30:00  59754.819768   \n",
       "2021-03-31 10:30:00               10 0 days 05:00:00  58753.153220   \n",
       "2021-03-31 15:30:00               16 0 days 08:00:00  59537.414072   \n",
       "\n",
       "                           px_low  returns_std           dd  \n",
       "datetime                                                     \n",
       "2020-11-12 01:00:00  15577.496531     0.003723    24.769723  \n",
       "2020-11-14 06:00:00  15728.018881     0.003627    28.147579  \n",
       "2020-11-15 09:00:00  15964.215493     0.001961   153.587095  \n",
       "2020-11-15 18:00:00  15791.911717     0.002677   159.557293  \n",
       "2020-11-16 05:30:00  16054.259355     0.005904    79.674265  \n",
       "...                           ...          ...          ...  \n",
       "2021-03-26 08:00:00  52597.728468     0.004490   919.924914  \n",
       "2021-03-28 20:30:00  54833.853787     0.004037  1087.233294  \n",
       "2021-03-29 09:00:00  56184.584676     0.004346  1055.634292  \n",
       "2021-03-31 10:30:00  57377.346796     0.003770  1321.744962  \n",
       "2021-03-31 15:30:00  58447.390928     0.004832   641.947623  \n",
       "\n",
       "[123 rows x 9 columns]"
      ]
     },
     "execution_count": 463,
     "metadata": {},
     "output_type": "execute_result"
    }
   ],
   "source": [
    "df_trades#[trade_life_metrics]\n"
   ]
  },
  {
   "cell_type": "code",
   "execution_count": 437,
   "metadata": {},
   "outputs": [
    {
     "data": {
      "text/plain": [
       "pandas.core.frame.DataFrame"
      ]
     },
     "execution_count": 437,
     "metadata": {},
     "output_type": "execute_result"
    }
   ],
   "source": [
    "type(df[[]])"
   ]
  },
  {
   "cell_type": "code",
   "execution_count": 350,
   "metadata": {},
   "outputs": [
    {
     "data": {
      "text/plain": [
       "array([106,  54,  18,  23, 151,  10, 121,  38,   7,  15,  19,  31,  73,\n",
       "       123, 155,  37,   9,   8,  78,  56,  45,   8,  50,  23,   6,  80,\n",
       "        10,  85, 453,  55,  64,  41, 205,  40, 261,  64, 232,  86,  15,\n",
       "        42,  98,  47,  15,  54,  10,  12,  76, 130,  39,  35,  21,  21,\n",
       "        43, 110,  89,  38,   8,  58, 181,   9,  91,  56, 110,  42,  94,\n",
       "        31,  49,  29,  58,   1, 104,  12, 135, 101,  25,  13,  17,   3,\n",
       "        17,  67,   6,  82,  82,  16,  55,  75,  33,  19,  72,   7, 136,\n",
       "         6,  50,   7,  20,   7,  76,   6,   1,   9,   1,  83,  14,   2,\n",
       "         6,  20,  58,  14,   1,   1,  80,  62,   3,   3,   7,  86,  25,\n",
       "        69, 121,  25,  99,  10,  16])"
      ]
     },
     "execution_count": 350,
     "metadata": {},
     "output_type": "execute_result"
    }
   ],
   "source": [
    "closing_trades_idx - open_trades_idx"
   ]
  },
  {
   "cell_type": "code",
   "execution_count": 340,
   "metadata": {},
   "outputs": [
    {
     "data": {
      "text/plain": [
       "array([  50,  156,  210,  228,  251,  402,  412,  533,  571,  578,  593,\n",
       "        612,  643,  716,  839,  994, 1031, 1040, 1048, 1126, 1182, 1227,\n",
       "       1235, 1285, 1308, 1314, 1394, 1404, 1489, 1942, 1997, 2061, 2102,\n",
       "       2307, 2347, 2608, 2672, 2904, 2990, 3005, 3047, 3145, 3192, 3207,\n",
       "       3261, 3271, 3283, 3359, 3489, 3528, 3563, 3584, 3605, 3648, 3758,\n",
       "       3847, 3885, 3893, 3951, 4132, 4141, 4232, 4288, 4398, 4440, 4534,\n",
       "       4565, 4614, 4643, 4701, 4702, 4806, 4818, 4953, 5054, 5079, 5092,\n",
       "       5109, 5112, 5129, 5196, 5202, 5284, 5366, 5382, 5437, 5512, 5545,\n",
       "       5564, 5636, 5643, 5779, 5785, 5835, 5842, 5862, 5869, 5945, 5951,\n",
       "       5952, 5961, 5962, 6045, 6059, 6061, 6067, 6087, 6145, 6159, 6160,\n",
       "       6161, 6241, 6303, 6306, 6309, 6316, 6402, 6427, 6496, 6617, 6642,\n",
       "       6741, 6751])"
      ]
     },
     "execution_count": 340,
     "metadata": {},
     "output_type": "execute_result"
    }
   ],
   "source": [
    "open_trades_idx+1"
   ]
  },
  {
   "cell_type": "code",
   "execution_count": 341,
   "metadata": {},
   "outputs": [
    {
     "data": {
      "text/plain": [
       "array([ 156,  210,  228,  251,  402,  412,  533,  571,  578,  593,  612,\n",
       "        643,  716,  839,  994, 1031, 1040, 1048, 1126, 1182, 1227, 1235,\n",
       "       1285, 1308, 1314, 1394, 1404, 1489, 1942, 1997, 2061, 2102, 2307,\n",
       "       2347, 2608, 2672, 2904, 2990, 3005, 3047, 3145, 3192, 3207, 3261,\n",
       "       3271, 3283, 3359, 3489, 3528, 3563, 3584, 3605, 3648, 3758, 3847,\n",
       "       3885, 3893, 3951, 4132, 4141, 4232, 4288, 4398, 4440, 4534, 4565,\n",
       "       4614, 4643, 4701, 4702, 4806, 4818, 4953, 5054, 5079, 5092, 5109,\n",
       "       5112, 5129, 5196, 5202, 5284, 5366, 5382, 5437, 5512, 5545, 5564,\n",
       "       5636, 5643, 5779, 5785, 5835, 5842, 5862, 5869, 5945, 5951, 5952,\n",
       "       5961, 5962, 6045, 6059, 6061, 6067, 6087, 6145, 6159, 6160, 6161,\n",
       "       6241, 6303, 6306, 6309, 6316, 6402, 6427, 6496, 6617, 6642, 6741,\n",
       "       6751, 6767])"
      ]
     },
     "execution_count": 341,
     "metadata": {},
     "output_type": "execute_result"
    }
   ],
   "source": [
    "closing_trades_idx+1"
   ]
  },
  {
   "cell_type": "code",
   "execution_count": null,
   "metadata": {},
   "outputs": [],
   "source": [
    "# # df['close'].plot(legend=True)\n",
    "# ((np.exp(df['ema_cross_returns'].cumsum()) * 100)).plot(legend=True)\n",
    "# # ((np.exp(df['returns'].cumsum()) * df['close'][0])).plot(legend=True)"
   ]
  },
  {
   "cell_type": "code",
   "execution_count": null,
   "metadata": {},
   "outputs": [],
   "source": [
    "# df['ema_cross_position'].cumsum().plot()\n",
    "# df['ema_cross_signal'].plot()"
   ]
  },
  {
   "cell_type": "code",
   "execution_count": null,
   "metadata": {},
   "outputs": [],
   "source": [
    "## Plotting\n",
    "plot_indic_list = ['ema_50', 'ema_20']\n",
    "plot_indic_color = ['#CCFFFF', '#FFCCFF']\n",
    "\n",
    "fig = make_subplots(\n",
    "    rows=2, \n",
    "    cols=1,\n",
    "    shared_xaxes=True,\n",
    "    row_heights=[0.2, 0.8],\n",
    "    vertical_spacing=0.02\n",
    ")\n",
    "\n",
    "fig.add_trace(\n",
    "    go.Candlestick(\n",
    "        x=df.index,\n",
    "        open=df['open'],\n",
    "        high=df['high'],\n",
    "        low=df['low'],\n",
    "        close=df['close'],\n",
    "        name='px',\n",
    "        increasing_line_color= 'green', \n",
    "        decreasing_line_color= 'red'\n",
    "    ),\n",
    "    row=2, \n",
    "    col=1\n",
    ")\n",
    "# candlestick xaxes\n",
    "fig.update_xaxes(rangeslider_visible=False,    row=2,\n",
    "    col=1)\n",
    "\n",
    "\n",
    "# add indicators to candlestick chart\n",
    "for indic, color in zip (plot_indic_list, plot_indic_color):\n",
    "    fig.add_scatter(\n",
    "        x=df.index, \n",
    "        y=df[indic], \n",
    "        name=indic, \n",
    "        marker=dict(color=color),\n",
    "        row=2, \n",
    "        col=1\n",
    "    )\n",
    "\n",
    "# add buy trades marks\n",
    "fig.add_scatter(\n",
    "    x=df.index, \n",
    "    y=df['close']+100, \n",
    "    showlegend=False,\n",
    "    # name='trades', \n",
    "    mode='markers',\n",
    "    marker=dict(\n",
    "        size=12,\n",
    "        # I want the color to be green if \n",
    "        # lower_limit ≤ y ≤ upper_limit\n",
    "        # else red\n",
    "        color=(\n",
    "            (df['ema_cross_trades'] == 'buy')).astype('int'),\n",
    "        colorscale=[[0, 'rgba(255, 0, 0, 0)'], [1, '#B7FFA1']],\n",
    "        symbol=5\n",
    "    ),\n",
    "    row=2, \n",
    "    col=1\n",
    ")\n",
    "\n",
    "# add sell trades marks\n",
    "fig.add_scatter(\n",
    "    x=df.index, \n",
    "    y=df['close']-100, \n",
    "    showlegend=False,\n",
    "    # name='trades', \n",
    "    mode='markers',\n",
    "    marker=dict(\n",
    "        size=12,\n",
    "        # I want the color to be green if \n",
    "        # lower_limit ≤ y ≤ upper_limit\n",
    "        # else red\n",
    "        color=(\n",
    "            (df['ema_cross_trades'] == 'sell')).astype('int'),\n",
    "        colorscale=[[0, 'rgba(255, 0, 0, 0)'], [1, '#FF7F7F']],\n",
    "        symbol=6   \n",
    "        ),\n",
    "        row=2, \n",
    "        col=1\n",
    ")\n",
    "\n",
    "# add strategy returns\n",
    "fig.add_scatter(\n",
    "    x=df.index,\n",
    "    y=df['ema_cross_cum_performance'],\n",
    "    name='cum_performance',\n",
    "    row=1,\n",
    "    col=1\n",
    ")\n",
    "\n",
    "# general layout\n",
    "fig.update_layout(\n",
    "    width=1400,\n",
    "    height=600,\n",
    "    title='<b>Strategy</b>',\n",
    "    title_x=.5,\n",
    "    yaxis_title='USDT/BTC',\n",
    "    template=\"plotly_dark\",\n",
    "    # plot_bgcolor='rgb(10,10,10)'\n",
    ")\n",
    "\n",
    "fig.show()"
   ]
  },
  {
   "cell_type": "code",
   "execution_count": null,
   "metadata": {},
   "outputs": [],
   "source": []
  },
  {
   "cell_type": "code",
   "execution_count": null,
   "metadata": {},
   "outputs": [],
   "source": []
  }
 ],
 "metadata": {
  "interpreter": {
   "hash": "c128b2642c5e45a6a6e517f84a10ebf4883d575b0402fafd309361fdab983f20"
  },
  "kernelspec": {
   "display_name": "Python 3.8.10 64-bit ('rltrader_env': venv)",
   "name": "python3"
  },
  "language_info": {
   "codemirror_mode": {
    "name": "ipython",
    "version": 3
   },
   "file_extension": ".py",
   "mimetype": "text/x-python",
   "name": "python",
   "nbconvert_exporter": "python",
   "pygments_lexer": "ipython3",
   "version": "3.8.10"
  },
  "orig_nbformat": 4
 },
 "nbformat": 4,
 "nbformat_minor": 2
}
