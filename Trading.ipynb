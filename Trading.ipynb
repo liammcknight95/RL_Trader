{
 "cells": [
  {
   "cell_type": "code",
   "execution_count": null,
   "metadata": {},
   "outputs": [],
   "source": [
    "%load_ext autoreload\n",
    "%autoreload 2\n",
    "import sys, os, time, json, re\n",
    "import numpy as np\n",
    "import pandas as pd\n",
    "from datetime import datetime, timedelta\n",
    "\n",
    "import data_preprocessing as dp\n",
    "import backtrader as bt\n",
    "import matplotlib.pyplot as plt"
   ]
  },
  {
   "cell_type": "markdown",
   "metadata": {},
   "source": [
    "## Get data"
   ]
  },
  {
   "cell_type": "code",
   "execution_count": null,
   "metadata": {},
   "outputs": [],
   "source": [
    "frequency = timedelta(seconds=60)\n",
    "pair = 'USDT_BTC'\n",
    "date_start = '2020-11-11'\n",
    "date_end = '2021-03-31'\n",
    "lob_depth = 100\n",
    "norm_type = 'dyn_z_score'\n",
    "roll = 1440*10 # 10 days"
   ]
  },
  {
   "cell_type": "code",
   "execution_count": null,
   "metadata": {},
   "outputs": [],
   "source": [
    "df_data, df_data_stdz = dp.import_data(\n",
    "    pair, \n",
    "    date_start, \n",
    "    date_end, \n",
    "    frequency=frequency, \n",
    "    depth=lob_depth, \n",
    "    norm_type=norm_type, \n",
    "    roll=roll, \n",
    "    stdz_depth=1\n",
    ")"
   ]
  },
  {
   "cell_type": "code",
   "execution_count": null,
   "metadata": {},
   "outputs": [],
   "source": [
    "df_data['Mid_Price'].plot()"
   ]
  },
  {
   "cell_type": "markdown",
   "metadata": {},
   "source": [
    "## Resample"
   ]
  },
  {
   "cell_type": "code",
   "execution_count": null,
   "metadata": {},
   "outputs": [],
   "source": [
    "df_data[['Mid_Price']].head(31)"
   ]
  },
  {
   "cell_type": "code",
   "execution_count": null,
   "metadata": {},
   "outputs": [],
   "source": [
    "# resample data to a less granular frequency\n",
    "df_data = df_data.asfreq('1min')\n",
    "df_data['volume'] = df_data['amount_buy'] + df_data['amount_sell']\n",
    "\n",
    "data_resampled = df_data.resample('30min', label='right').agg( # closing time of candlestick\n",
    "    {\n",
    "    'Mid_Price': ['last', 'first', np.max, np.min], \n",
    "    'volume': np.sum\n",
    "    }\n",
    ")\n",
    "\n",
    "data_resampled.columns = data_resampled.columns.get_level_values(1)\n",
    "\n",
    "data_resampled['close'] = data_resampled['last']\n",
    "data_resampled['open'] = data_resampled['first']\n",
    "data_resampled['high'] = data_resampled['amax']\n",
    "data_resampled['low'] = data_resampled['amin']\n",
    "data_resampled['volume'] = data_resampled['sum']\n",
    "data_resampled.index.name = 'datetime'\n",
    "\n",
    "data_resampled\n",
    "# rename columns"
   ]
  },
  {
   "cell_type": "code",
   "execution_count": null,
   "metadata": {},
   "outputs": [],
   "source": [
    "data_resampled['log_ret'] = (np.log(data_resampled['close']) - np.log(data_resampled['close'].shift(1)))\n",
    "data_resampled['roll_std'] = data_resampled['log_ret'].rolling(window=336).std() # 336 is the number of 30mins interval in week\n",
    "data_resampled['roll_std'].plot(figsize=(8,4))"
   ]
  },
  {
   "cell_type": "markdown",
   "metadata": {},
   "source": [
    "## Backtrader"
   ]
  },
  {
   "cell_type": "code",
   "execution_count": null,
   "metadata": {},
   "outputs": [],
   "source": [
    "from Strategies.GoldenCross import GoldenCross\n",
    "from Strategies.BuyHold import BuyHold\n",
    "\n",
    "# Create a cerebro entity\n",
    "cerebro = bt.Cerebro()\n",
    "\n",
    "# Add a strategy\n",
    "cerebro.addstrategy(GoldenCross)\n",
    "\n",
    "# Create a Data Feed\n",
    "data = bt.feeds.PandasData(dataname=data_resampled[:2000])\n",
    "\n",
    "# Add the Data Feed to Cerebro\n",
    "cerebro.adddata(data)\n",
    "\n",
    "cerebro.addwriter(bt.WriterFile, out='./Strategies/logging/golden_cross2.csv', csv=True)\n",
    "\n",
    "# Set our desired cash start\n",
    "cerebro.broker.setcash(200000.0)\n",
    "# Add a FixedSize sizer according to the stake\n",
    "# cerebro.addsizer(bt.sizers.PercentSizer, percents=10)\n",
    "# cerebro.broker.setcommission(commission=0.0007) \n",
    "\n",
    "# Print out the starting conditions\n",
    "print('Starting Portfolio Value: %.2f' % cerebro.broker.getvalue())\n",
    "\n",
    "# Run over everything\n",
    "\n",
    "\n",
    "cerebro.run()\n",
    "\n",
    "plt.rcParams['figure.figsize']=[22, 16]\n",
    "cerebro.plot()\n",
    "# Print out the final result\n",
    "print('Final Portfolio Value: %.2f' % cerebro.broker.getvalue())\n",
    "\n",
    "# figure out what's wrong with stop losses\n"
   ]
  },
  {
   "cell_type": "code",
   "execution_count": null,
   "metadata": {},
   "outputs": [],
   "source": [
    "strategy_results = pd.read_csv('./Strategies/logging/golden_cross2.csv', header=1, index_col='Id').dropna(thresh=3)\n",
    "strategy_results['datetime'] = pd.to_datetime(strategy_results['datetime'])\n",
    "print(strategy_results.shape)"
   ]
  },
  {
   "cell_type": "code",
   "execution_count": null,
   "metadata": {},
   "outputs": [],
   "source": [
    "strategy_and_indic = pd.merge(data_resampled, strategy_results, left_index=True, right_on='datetime', how='outer')\n",
    "print(strategy_and_indic.columns)\n",
    "columns_to_keep = ['datetime', 'open_x', 'close_x', 'high_x', 'low_x', 'cash', 'value', 'buy', 'sell', 'pnlplus', 'pnlminus', 'sma', 'sma.1', 'crossover']\n",
    "strategy_and_indic[columns_to_keep].to_csv('./Strategies/logging/golden_cross_cl.csv')"
   ]
  },
  {
   "cell_type": "code",
   "execution_count": null,
   "metadata": {},
   "outputs": [],
   "source": [
    "# def saveplots(cerebro, numfigs=1, iplot=True, start=None, end=None,\n",
    "#              width=16, height=9, dpi=300, tight=True, use=None, file_path = '', **kwargs):\n",
    "\n",
    "#         from backtrader import plot\n",
    "#         if cerebro.p.oldsync:\n",
    "#             plotter = plot.Plot_OldSync(**kwargs)\n",
    "#         else:\n",
    "#             plotter = plot.Plot(**kwargs)\n",
    "\n",
    "#         figs = []\n",
    "#         for stratlist in cerebro.runstrats:\n",
    "#             for si, strat in enumerate(stratlist):\n",
    "#                 rfig = plotter.plot(strat, figid=si * 100,\n",
    "#                                     numfigs=numfigs, iplot=iplot,\n",
    "#                                     start=start, end=end, use=use)\n",
    "#                 figs.append(rfig)\n",
    "\n",
    "#         for fig in figs:\n",
    "#             for f in fig:\n",
    "#                 f.savefig(file_path, bbox_inches='tight')\n",
    "#         # return figs\n",
    "\n",
    "# saveplots(cerebro, file_path = 'savefig.png') "
   ]
  },
  {
   "cell_type": "markdown",
   "metadata": {},
   "source": [
    "## My trading functions"
   ]
  },
  {
   "cell_type": "code",
   "execution_count": null,
   "metadata": {},
   "outputs": [],
   "source": [
    "## Roadmap\n",
    "# for each trade I need entry price, closing price, number of periods, time in the trade, min, max, volatility V \n",
    "# make execution assumptions: conservative: enter trade next open bar, exit trade next open bar V\n",
    "# add stops and trailing stops - in progress\n",
    "# wrap strategy in a reusable class - in progress\n",
    "# pull more data, a few pairs and recent data\n",
    "# add single strategy to binance account with cctx\n",
    "# backtest multiple strategies across multiple pairs, splitting between train and test set etc\n",
    "# deploy multiple strategies"
   ]
  },
  {
   "cell_type": "code",
   "execution_count": null,
   "metadata": {},
   "outputs": [],
   "source": [
    "import ccxt\n",
    "import ta\n",
    "from ta.volatility import BollingerBands, AverageTrueRange\n",
    "from ta.trend import EMAIndicator\n",
    "import config\n",
    "import pandas as pd\n",
    "import plotly.graph_objects as go\n",
    "from plotly.subplots import make_subplots"
   ]
  },
  {
   "cell_type": "code",
   "execution_count": null,
   "metadata": {},
   "outputs": [],
   "source": [
    "## Exchange connectivity\n",
    "exchange = ccxt.binance(\n",
    "    {\n",
    "        'apiKey': config.BINANCE_API_KEY,\n",
    "        'secret': config.BINANCE_SECRET_KEY\n",
    "    }\n",
    ")\n",
    "\n",
    "markets = exchange.load_markets()\n",
    "\n",
    "bars = exchange.fetch_ohlcv('ETH/USDT', limit=20) # most recent candle keeps evolving"
   ]
  },
  {
   "cell_type": "code",
   "execution_count": null,
   "metadata": {},
   "outputs": [],
   "source": [
    "from StratTest.engine import TradingStrategy"
   ]
  },
  {
   "cell_type": "code",
   "execution_count": null,
   "metadata": {},
   "outputs": [],
   "source": [
    "trading_strategy = TradingStrategy(data_resampled[['open', 'high', 'low', 'close', 'volume']].copy())\n",
    "\n",
    "# trading_strategy.add_indicator('BollingerBands', window=20)\n",
    "trading_strategy.add_indicator('EMAIndicator', window=20)\n",
    "trading_strategy.add_indicator('EMAIndicator', window=50)"
   ]
  },
  {
   "cell_type": "code",
   "execution_count": null,
   "metadata": {},
   "outputs": [],
   "source": [
    "trading_strategy.add_strategy(\n",
    "    'EMACrossOver', \n",
    "    execution_type='next_bar_open',\n",
    "    stop_loss=0.01,\n",
    "    short_ema='ema_20', \n",
    "    long_ema='ema_50'\n",
    ")"
   ]
  },
  {
   "cell_type": "code",
   "execution_count": null,
   "metadata": {},
   "outputs": [],
   "source": [
    "# TODO delete _new_osition, _trades, _signal columns, now the same as the ones with strategy\n",
    "# count number of transaction per period and add transaction costs\n",
    "# proceede with more data"
   ]
  },
  {
   "cell_type": "code",
   "execution_count": null,
   "metadata": {},
   "outputs": [],
   "source": [
    " # check what is going on on March 22\n",
    "trading_strategy.trading_chart(plot_strategy=True, short_ema='ema_20', long_ema='ema_50')"
   ]
  },
  {
   "cell_type": "code",
   "execution_count": null,
   "metadata": {},
   "outputs": [],
   "source": [
    "trading_strategy.trading_chart(plot_strategy=True, short_ema='ema_20')"
   ]
  },
  {
   "cell_type": "code",
   "execution_count": null,
   "metadata": {},
   "outputs": [],
   "source": [
    "trading_strategy.trading_chart(plot_strategy=True, short_ema='ema_20')"
   ]
  },
  {
   "cell_type": "code",
   "execution_count": null,
   "metadata": {},
   "outputs": [],
   "source": [
    "trading_strategy.df.to_excel(f'StratTest/Exports/{trading_strategy.strategy}_{trading_strategy.stop_loss}.xlsx')"
   ]
  },
  {
   "cell_type": "code",
   "execution_count": null,
   "metadata": {},
   "outputs": [],
   "source": [
    "# df =data_resampled[['open', 'high', 'low', 'close', 'volume']].copy() # pd.DataFrame(bars, columns=['timestamp', 'open', 'high', 'low', 'close', 'volume'])\n",
    "\n",
    "# ## Create Indicators\n",
    "# # Bollinger Bands\n",
    "# bb_indicator = BollingerBands(df['close'], window=20)\n",
    "\n",
    "# df['upper_band'] = bb_indicator.bollinger_hband()\n",
    "# df['lower_band'] = bb_indicator.bollinger_lband()\n",
    "# df['moving_average'] = bb_indicator.bollinger_mavg()\n",
    "\n",
    "# # Average True Range\n",
    "# atr_indicator = AverageTrueRange(df['high'], df['low'], df['close'])\n",
    "# df['atr'] = atr_indicator.average_true_range()\n",
    "\n",
    "# # Moving Averages\n",
    "# ema50_indicator = EMAIndicator(df['close'], 50)\n",
    "# df['ema_50'] = ema50_indicator.ema_indicator()\n",
    "\n",
    "# ema20_indicator = EMAIndicator(df['close'], 20)\n",
    "# df['ema_20'] = ema20_indicator.ema_indicator()"
   ]
  },
  {
   "cell_type": "code",
   "execution_count": null,
   "metadata": {},
   "outputs": [],
   "source": [
    "# ## Generate Signals\n",
    "# # EMA cross\n",
    "# df['ema_cross_signal'] = np.where(\n",
    "#     df['ema_20'] > df['ema_50'], 1, \n",
    "#     np.where(df['ema_20'] < df['ema_50'], -1, 0))\n",
    "\n",
    "# df['ema_cross_trades'] = np.where(\n",
    "#     df['ema_cross_signal'].diff() > 0, 'buy', \n",
    "#     np.where(df['ema_cross_signal'].diff() < 0, 'sell', 'hold'))\n",
    "\n",
    "# df['ema_cross_new_position'] = np.where(\n",
    "#     df['ema_cross_signal'].diff() > 0, +1, \n",
    "#     np.where(df['ema_cross_signal'].diff() < 0, -1, 0))"
   ]
  },
  {
   "cell_type": "code",
   "execution_count": null,
   "metadata": {},
   "outputs": [],
   "source": [
    "# ## Backtesting\n",
    "# initial_cash = 1000\n",
    "\n",
    "# df['returns'] = np.log(df['close']) - np.log(df['close'].shift(1))\n",
    "# df['ema_cross_returns'] = df['returns'] * df['ema_cross_signal']\n",
    "\n",
    "# df['ema_cross_cum_performance'] = np.exp(df['ema_cross_returns'].cumsum())\n",
    "# df['ema_cross_cash'] = df['ema_cross_cum_performance'] * initial_cash\n",
    "\n",
    "# np.exp(df['returns'].cumsum()).plot(figsize=(8,4), legend=True) # reverse log returns to prices\n",
    "# df['ema_cross_cum_performance'].plot(legend=True)"
   ]
  },
  {
   "cell_type": "code",
   "execution_count": null,
   "metadata": {},
   "outputs": [],
   "source": [
    "\n",
    "# trading_strategy.df['px_returns_calcs']  = np.where(\n",
    "#     trading_strategy.df['EMACrossOver_new_position']!=0, trading_strategy.df['open'].shift(-1), trading_strategy.df['close'])\n",
    "\n",
    "# finish up creating the columns with actual execution prices to be used to calculate strategy returns"
   ]
  },
  {
   "cell_type": "code",
   "execution_count": null,
   "metadata": {},
   "outputs": [],
   "source": [
    "trading_strategy.df['px_returns_calcs'].plot()"
   ]
  },
  {
   "cell_type": "code",
   "execution_count": null,
   "metadata": {},
   "outputs": [],
   "source": [
    "# # potential entry points\n",
    "\n",
    "# df['potential_entry_price'] = df['open'].shift(-1) # assume entry trade is executed at the next bar open\n",
    "# df['potential_closing_price'] = df['open'].shift(-1) # assume closing is executed at the next bar open\n",
    "# df[['open', 'potential_entry_price']]\n",
    "\n",
    "# # get positions in the dataframe where indicator generates signals\n",
    "# open_trades_idx = np.where(df['ema_cross_new_position']!=0)[0]\n",
    "# # -2 because of shape is n rows and df is 0 indexed and because we do + 1 later - avoid out of bound error\n",
    "# closing_trades_idx = np.append(open_trades_idx, df.shape[0]-2)[1:] \n",
    "\n",
    "# df['trade_grouper'] = np.nan\n",
    "# df.loc[df.iloc[open_trades_idx].index, 'trade_grouper'] = df.iloc[open_trades_idx].index\n",
    "# df['trade_grouper'] = df['trade_grouper'].fillna(method='ffill')\n",
    "\n",
    "# # scenario where no stop loss is present, invested position is the same as the signal output\n",
    "# df['strategy_new_position'] = df['ema_cross_new_position'].copy()\n",
    "# df['strategy_trades'] = df['ema_cross_trades'].copy()\n",
    "# df['strategy_signal'] = df['ema_cross_signal'].copy()\n",
    "\n",
    "# # col to keep track of stop loss trigger\n",
    "# df['sl_trigger'] = np.nan\n",
    "# df['sl_hit'] = np.nan\n",
    "\n",
    "# all_trades_list = []\n",
    "# for name, sub_df in df.groupby(by='trade_grouper'):\n",
    "\n",
    "#     entry_price = df[df.index==name]['potential_entry_price'].values[0]\n",
    "#     direction = df[df.index==name]['ema_cross_new_position'].values[0]\n",
    "#     print(direction)\n",
    "\n",
    "#     # check for stop losses before any backtesting\n",
    "#     if direction > 0:\n",
    "\n",
    "#         sl_price = entry_price * 0.99\n",
    "#         sub_df['sl_trigger'] = sl_price\n",
    "#         df.loc[sub_df.index, 'sl_trigger'] = sl_price\n",
    "\n",
    "#         if (sub_df['sl_trigger'] < sub_df['low']).sum() == sub_df.shape[0]:\n",
    "#             print('Long position held until signal reversed')\n",
    "#         else:\n",
    "#             sl_trigger_time = sub_df[~(sub_df['sl_trigger'] < sub_df['low'])].index[0] # when stop loss was triggered\n",
    "#             sl_affected_range = sub_df[sub_df.index>=sl_trigger_time].index # all the datapoints subsequently affected by stop loss\n",
    "\n",
    "#             df.loc[sl_trigger_time, 'strategy_new_position'] = -1 # create exit point when sl is hit\n",
    "#             df.loc[sl_trigger_time, 'strategy_trades'] = \"sell\" # create exit point when sl is hit\n",
    "#             df.loc[sl_trigger_time, 'sl_hit'] = True # flag stop loss being hit\n",
    "#             df.loc[sl_affected_range, 'strategy_signal'] = 0 # turn signal to 0 - out of market\n",
    "            \n",
    "#             print('Stop loss triggered - closing long position')\n",
    "\n",
    "#     elif direction < 0:\n",
    "\n",
    "#         sl_price = entry_price * 1.01\n",
    "#         sub_df['sl_trigger'] =  sl_price\n",
    "#         df.loc[sub_df.index, 'sl_trigger'] = sl_price\n",
    "\n",
    "#         if (sub_df['sl_trigger'] > sub_df['high']).sum() == sub_df.shape[0]:\n",
    "#             print('Short position held until signal reversed')\n",
    "#         else:\n",
    "#             sl_trigger_time = sub_df[~(sub_df['sl_trigger'] > sub_df['high'])].index[0] # when stop loss was triggered\n",
    "#             sl_affected_range = sub_df[sub_df.index>=sl_trigger_time].index  # all the datapoints subsequently affected by stop loss\n",
    "\n",
    "#             df.loc[sl_trigger_time, 'strategy_new_position'] = 1 # create exit point when sl is hit\n",
    "#             df.loc[sl_trigger_time, 'strategy_trades'] = \"buy\" # create exit point when sl is hit\n",
    "#             df.loc[sl_trigger_time, 'sl_hit'] = True # flag stop loss being hit\n",
    "#             df.loc[sl_affected_range, 'strategy_signal'] = 0 # turn signal to 0 - out of market\n",
    "            \n",
    "#             print('Stop loss triggered - closing short position')"
   ]
  },
  {
   "cell_type": "code",
   "execution_count": null,
   "metadata": {},
   "outputs": [],
   "source": [
    "df[df.index>='2020-11-22 21:00:00'].head(50)[['trade_grouper', 'trade_grouper', 'close', 'low', 'high', 'sl_trigger', 'ema_cross_new_position', 'ema_cross_signal', 'ema_cross_trades', 'strategy_new_position', 'strategy_signal', 'strategy_trades', 'sl_hit']]"
   ]
  },
  {
   "cell_type": "code",
   "execution_count": null,
   "metadata": {},
   "outputs": [],
   "source": [
    "# get positions in the dataframe where indicator generates signals\n",
    "open_trades_idx = np.where(df['strategy_position']!=0)[0]\n",
    "df.loc[df.iloc[open_trades_idx].index, 'trade_grouper'].head(20)"
   ]
  },
  {
   "cell_type": "code",
   "execution_count": null,
   "metadata": {},
   "outputs": [],
   "source": [
    "# prepare df trades\n",
    "\n",
    "# get positions in the dataframe where indicator generates signals\n",
    "open_trades_idx = np.where(df['ema_cross_position']!=0)[0]\n",
    "# -2 because of shape is n rows and df is 0 indexed and because we do + 1 later - avoid out of bound error\n",
    "closing_trades_idx = np.append(open_trades_idx, df.shape[0]-2)[1:] \n",
    "df_trades = df.iloc[open_trades_idx][['ema_cross_position']].copy() # empty dataframe with only datetime index\n",
    "\n",
    "# entry and closing points\n",
    "df_trades['entry_price'] = df.iloc[open_trades_idx+1]['open'].values # assume entry trade is executed at the next bar open\n",
    "df_trades['closing_price'] = df.iloc[closing_trades_idx+1]['open'].values # assume closing is executed at the next bar open\n",
    "\n",
    "# trade discrete returns\n",
    "df_trades['discrete_return'] = df_trades['ema_cross_position'] * ((df_trades['closing_price'] / df_trades['entry_price']) - 1)\n",
    "\n",
    "# how long are the trades \n",
    "df_trades['trade_n_periods'] = closing_trades_idx - open_trades_idx\n",
    "df_trades['trade_duration'] = df.iloc[closing_trades_idx].index - df.iloc[open_trades_idx].index\n",
    "\n",
    "# what happened throughout the trade\n",
    "df['trade_grouper'] = np.nan\n",
    "df.loc[df.iloc[open_trades_idx].index, 'trade_grouper'] = df.iloc[open_trades_idx].index\n",
    "df['trade_grouper'] = df['trade_grouper'].fillna(method='ffill')\n",
    "df.head(60)\n",
    "\n",
    "all_trades_list = []\n",
    "for name, sub_df in df.groupby(by='trade_grouper'):\n",
    "    max_val = sub_df['high'].max()\n",
    "    min_val = sub_df['low'].min()\n",
    "    returns_std = sub_df['returns'].std()\n",
    "\n",
    "    all_trades_list.append([name, max_val, min_val, returns_std])\n",
    "\n",
    "\n",
    "intra_trade_stats = pd.DataFrame(all_trades_list, columns=['datetime', 'px_high', 'px_low', 'returns_std']).set_index('datetime')\n",
    "df_trades = pd.merge(df_trades, intra_trade_stats, left_index=True, right_index=True)\n",
    "\n",
    "\n",
    "def max_dd_pctg(row):\n",
    "    ''' Measure of how \"painful\" holding the trade was '''\n",
    "    if row['ema_cross_position'] == 1:\n",
    "        return (row['entry_price'] - row['px_low'])/row['px_low']\n",
    "    elif row['ema_cross_position'] == -1:\n",
    "        return (-(row['entry_price'] - row['px_high']))/row['px_high']\n",
    "    else:\n",
    "        return 0\n",
    "\n",
    "df_trades['dd_pctg'] = df_trades.apply(max_dd_pctg, axis=1)\n",
    "\n",
    "# calculate trade returns and jump into risk management / stop losses\n"
   ]
  },
  {
   "cell_type": "code",
   "execution_count": null,
   "metadata": {},
   "outputs": [],
   "source": [
    "\n",
    "sl_trigger_time = sub_df[~(sub_df['sl_trigger'] < sub_df['low'])].index\n",
    "\n",
    "# shortened trade time due to stop loss\n",
    "stopped_sub_df = sub_df[sub_df.index<=sl_trigger_time[0]].copy()\n",
    "stopped_sub_df['strategy_position'][-1] = -1\n",
    "\n",
    "# remaining part of the trade, now position need to change to 0\n",
    "quitted_sub_df = sub_df[sub_df.index>=sl_trigger_time[0]].copy()\n",
    "quitted_sub_df"
   ]
  },
  {
   "cell_type": "code",
   "execution_count": null,
   "metadata": {},
   "outputs": [],
   "source": [
    "sub_df.loc[sl_trigger_time, 'strategy_position'] = -1\n",
    "sub_df\n"
   ]
  },
  {
   "cell_type": "code",
   "execution_count": null,
   "metadata": {},
   "outputs": [],
   "source": [
    "sub_df[sub_df.index<=sl_trigger_time[0]]['strategy_position'][-1] = -1\n",
    "sub_df[sub_df.index<=sl_trigger_time[0]]['strategy_position']"
   ]
  },
  {
   "cell_type": "code",
   "execution_count": null,
   "metadata": {},
   "outputs": [],
   "source": [
    "def get_worst_price(row):\n",
    "    ''' Get worst price relative to position '''\n",
    "    if row['ema_cross_signal'] > 0:\n",
    "        return min(row['open'], row['high'], row['low'], row['close'])\n",
    "    elif row['ema_cross_signal'] < 0:\n",
    "        return max(row['open'], row['high'], row['low'], row['close'])\n",
    "    else:\n",
    "        return 0\n",
    "\n",
    "\n",
    "\n",
    "# static stop\n",
    "\n",
    "sub_df['worst_price_timestamp'] = sub_df.apply(get_worst_price, axis=1)\n",
    "# calculate loss vs worst price over the period\n",
    "sub_df['cumulative_performance'] = sub_df['ema_cross_returns'].cumsum()\n",
    "sub_df['worst_period_potential_loss'] = sub_df['ema_cross_signal'] * ((sub_df['worst_price_timestamp'] / entry_price) - 1)\n",
    "\n",
    "sub_df[['ema_cross_returns', 'cumulative_performance', 'worst_period_potential_loss']]"
   ]
  },
  {
   "cell_type": "code",
   "execution_count": null,
   "metadata": {},
   "outputs": [],
   "source": [
    "df_trades.apply(lambda x: (x['closing_price'] / x['entry_price']) - 1)"
   ]
  },
  {
   "cell_type": "code",
   "execution_count": null,
   "metadata": {},
   "outputs": [],
   "source": [
    "## Metrics\n",
    "# Net Profit\n",
    "net_profit = df['ema_cross_cash'][-1] - initial_cash \n",
    "\n",
    "# Max Drowdown\n",
    "max_dd = df_trades['dd_pctg'].max()\n",
    "\n",
    "# Win Ratio\n",
    "win_ratio = (df_trades['discrete_return']>0).sum() / df_trades.shape[0]\n",
    "\n",
    "print(f'Net Profit: {net_profit:.2f}, Max Drawdown: {max_dd:.2%}, Win Ratio: {win_ratio:.2%}')"
   ]
  },
  {
   "cell_type": "code",
   "execution_count": null,
   "metadata": {},
   "outputs": [],
   "source": [
    "# # df['close'].plot(legend=True)\n",
    "# ((np.exp(df['ema_cross_returns'].cumsum()) * 100)).plot(legend=True)\n",
    "# # ((np.exp(df['returns'].cumsum()) * df['close'][0])).plot(legend=True)"
   ]
  },
  {
   "cell_type": "code",
   "execution_count": null,
   "metadata": {},
   "outputs": [],
   "source": [
    "# df['ema_cross_position'].cumsum().plot()\n",
    "# df['ema_cross_signal'].plot()"
   ]
  },
  {
   "cell_type": "code",
   "execution_count": null,
   "metadata": {},
   "outputs": [],
   "source": [
    "## Plotting\n",
    "plot_indic_list = ['ema_50', 'ema_20']\n",
    "plot_indic_color = ['#CCFFFF', '#FFCCFF']\n",
    "\n",
    "fig = make_subplots(\n",
    "    rows=2, \n",
    "    cols=1,\n",
    "    shared_xaxes=True,\n",
    "    row_heights=[0.2, 0.8],\n",
    "    vertical_spacing=0.02\n",
    ")\n",
    "\n",
    "fig.add_trace(\n",
    "    go.Candlestick(\n",
    "        x=df.index,\n",
    "        open=df['open'],\n",
    "        high=df['high'],\n",
    "        low=df['low'],\n",
    "        close=df['close'],\n",
    "        name='px',\n",
    "        increasing_line_color= 'green', \n",
    "        decreasing_line_color= 'red'\n",
    "    ),\n",
    "    row=2, \n",
    "    col=1\n",
    ")\n",
    "# candlestick xaxes\n",
    "fig.update_xaxes(rangeslider_visible=False,    row=2,\n",
    "    col=1)\n",
    "\n",
    "\n",
    "# add indicators to candlestick chart\n",
    "for indic, color in zip (plot_indic_list, plot_indic_color):\n",
    "    fig.add_scatter(\n",
    "        x=df.index, \n",
    "        y=df[indic], \n",
    "        name=indic, \n",
    "        marker=dict(color=color),\n",
    "        row=2, \n",
    "        col=1\n",
    "    )\n",
    "\n",
    "# add buy trades marks\n",
    "fig.add_scatter(\n",
    "    x=df.index, \n",
    "    y=df['close']+100, \n",
    "    showlegend=False,\n",
    "    # name='trades', \n",
    "    mode='markers',\n",
    "    marker=dict(\n",
    "        size=12,\n",
    "        # I want the color to be green if \n",
    "        # lower_limit ≤ y ≤ upper_limit\n",
    "        # else red\n",
    "        color=(\n",
    "            (df['ema_cross_trades'] == 'buy')).astype('int'),\n",
    "        colorscale=[[0, 'rgba(255, 0, 0, 0)'], [1, '#B7FFA1']],\n",
    "        symbol=5\n",
    "    ),\n",
    "    row=2, \n",
    "    col=1\n",
    ")\n",
    "\n",
    "# add sell trades marks\n",
    "fig.add_scatter(\n",
    "    x=df.index, \n",
    "    y=df['close']-100, \n",
    "    showlegend=False,\n",
    "    # name='trades', \n",
    "    mode='markers',\n",
    "    marker=dict(\n",
    "        size=12,\n",
    "        # I want the color to be green if \n",
    "        # lower_limit ≤ y ≤ upper_limit\n",
    "        # else red\n",
    "        color=(\n",
    "            (df['ema_cross_trades'] == 'sell')).astype('int'),\n",
    "        colorscale=[[0, 'rgba(255, 0, 0, 0)'], [1, '#FF7F7F']],\n",
    "        symbol=6   \n",
    "        ),\n",
    "        row=2, \n",
    "        col=1\n",
    ")\n",
    "\n",
    "# add strategy returns\n",
    "fig.add_scatter(\n",
    "    x=df.index,\n",
    "    y=df['ema_cross_cum_performance'],\n",
    "    name='cum_performance',\n",
    "    row=1,\n",
    "    col=1\n",
    ")\n",
    "\n",
    "# general layout\n",
    "fig.update_layout(\n",
    "    width=1400,\n",
    "    height=600,\n",
    "    title='<b>Strategy</b>',\n",
    "    title_x=.5,\n",
    "    yaxis_title='USDT/BTC',\n",
    "    template=\"plotly_dark\",\n",
    "    # plot_bgcolor='rgb(10,10,10)'\n",
    ")\n",
    "\n",
    "fig.show()"
   ]
  },
  {
   "cell_type": "code",
   "execution_count": null,
   "metadata": {},
   "outputs": [],
   "source": [
    "df[df.index>='2020-11-22 21:00:00'].head(50)[['trade_grouper', 'trade_grouper', 'close', 'low', 'high', 'sl_trigger', 'ema_cross_new_position', 'ema_cross_signal', 'ema_cross_trades', 'strategy_new_position', 'strategy_signal', 'strategy_trades']]"
   ]
  },
  {
   "cell_type": "code",
   "execution_count": null,
   "metadata": {},
   "outputs": [],
   "source": []
  }
 ],
 "metadata": {
  "interpreter": {
   "hash": "c128b2642c5e45a6a6e517f84a10ebf4883d575b0402fafd309361fdab983f20"
  },
  "kernelspec": {
   "display_name": "Python 3.8.10 64-bit ('rltrader_env': venv)",
   "name": "python3"
  },
  "language_info": {
   "codemirror_mode": {
    "name": "ipython",
    "version": 3
   },
   "file_extension": ".py",
   "mimetype": "text/x-python",
   "name": "python",
   "nbconvert_exporter": "python",
   "pygments_lexer": "ipython3",
   "version": "3.8.10"
  },
  "orig_nbformat": 4
 },
 "nbformat": 4,
 "nbformat_minor": 2
}
