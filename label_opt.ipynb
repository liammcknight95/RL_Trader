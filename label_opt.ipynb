{
 "metadata": {
  "language_info": {
   "codemirror_mode": {
    "name": "ipython",
    "version": 3
   },
   "file_extension": ".py",
   "mimetype": "text/x-python",
   "name": "python",
   "nbconvert_exporter": "python",
   "pygments_lexer": "ipython3",
   "version": "3.8.5-final"
  },
  "orig_nbformat": 2,
  "kernelspec": {
   "name": "python3",
   "display_name": "Python 3",
   "language": "python"
  }
 },
 "nbformat": 4,
 "nbformat_minor": 2,
 "cells": [
  {
   "source": [
    "### Done\n",
    "* Generate only +1, -1 labels using an alpha = 0\n",
    "* Clean the labels and ffill the 0s resulting from cleaning\n",
    "*plot and compare dirty, cleaned and ffilled labels\n",
    "<br />\n",
    "<br />\n",
    "### To Do\n",
    "* Update get_strategy_pnl in func tool to generate cleaned ffilled labels and profit\n",
    "* Use updated get_strategy_pnl to  optimize k_plus and k_minus"
   ],
   "cell_type": "markdown",
   "metadata": {}
  },
  {
   "cell_type": "code",
   "execution_count": null,
   "metadata": {},
   "outputs": [],
   "source": [
    "%load_ext autoreload\n",
    "%autoreload 2\n",
    "\n",
    "import numpy as np\n",
    "import pandas as pd\n",
    "from datetime import datetime, timedelta\n",
    "import plotly_express as px\n",
    "\n",
    "from func_tools import get_labels, plot_labels_line, get_strategy_pnl"
   ]
  },
  {
   "cell_type": "code",
   "execution_count": null,
   "metadata": {},
   "outputs": [],
   "source": [
    "experiments_folder = 'Experiments'\n",
    "cache_folder = f'{experiments_folder}/cache'\n",
    "\n",
    "pair = 'USDT_BTC'\n",
    "lob_depth = 10\n",
    "frequency = timedelta(seconds=10)\n",
    "frequency_seconds = int(frequency.total_seconds())\n",
    "date_start = '2020_04_04'\n",
    "date_end = '2021_01_03'\n",
    "norm_type = 'dyn_z_score'\n",
    "k_plus = 15\n",
    "k_minus = 15\n",
    "alpha = 0 # Zero to allow only for 1 and -1 labels\n",
    "trading_fee=0.000712\n",
    "roll = 7200 * 6"
   ]
  },
  {
   "cell_type": "code",
   "execution_count": null,
   "metadata": {},
   "outputs": [],
   "source": [
    "input_file_name = f'{pair}--{lob_depth}lev--{frequency_seconds}sec--{date_start}--{date_end}.csv.gz'\n",
    "normalized_train_file = f'{cache_folder}/{pair}/TRAIN--{norm_type}-{roll}--{input_file_name}'\n",
    "top_ob_train_file = f'{cache_folder}/{pair}/TRAIN_TOP--{input_file_name}'\n",
    "\n",
    "train_dyn_df = pd.read_csv(normalized_train_file) # import standardized data\n",
    "top_ob_train = pd.read_csv(top_ob_train_file) # import original data\n",
    "mid_px_train = top_ob_train['Mid_Price']\n",
    "\n",
    "# get dynamic mid price for get label\n",
    "top_ob_train_dyn = train_dyn_df[train_dyn_df['Level'] == 0]\n",
    "top_ob_train_dyn['Mid_Price'] = (top_ob_train_dyn['Ask_Price'] + top_ob_train_dyn['Bid_Price']) / 2\n",
    "mid_px_train_dyn = top_ob_train_dyn['Mid_Price']\n"
   ]
  },
  {
   "cell_type": "code",
   "execution_count": null,
   "metadata": {},
   "outputs": [],
   "source": [
    "# will have leading and trailing \"0\" or NAs due to the nature of the rolling\n",
    "# trailing \"0\" will be taken care of with ffill later\n",
    "labels = get_labels(mid_px_train_dyn, k_plus, k_minus, alpha, long_only=False) "
   ]
  },
  {
   "cell_type": "code",
   "execution_count": null,
   "metadata": {},
   "outputs": [],
   "source": [
    "# Dirty labels\n",
    "plot_labels_line(mid_px_train[1626046-20000:1626046], labels[1626046-20000:1626046], title='Dirty')"
   ]
  },
  {
   "cell_type": "code",
   "execution_count": null,
   "metadata": {},
   "outputs": [],
   "source": [
    "# get profit from cleaned labels \"cl\"\n",
    "profit_cl, df_profit_cl = get_strategy_pnl(mid_px_train, labels, trading_fee=trading_fee, min_profit=0.0020, plotting=False, return_df=True)\n",
    "\n",
    "# Cleaned labels\n",
    "plot_labels_line(df_profit_cl['px'][1626046-20000:1626046], df_profit_cl['cleaned_labels'][1626046-20000:1626046], title='Cleaned')"
   ]
  },
  {
   "cell_type": "code",
   "execution_count": null,
   "metadata": {},
   "outputs": [],
   "source": [
    "# Create new column with zeros ffilled\n",
    "df_profit_cl['ffilled_labels'] = df_profit_cl['cleaned_labels'].replace(0, method='ffill')\n",
    "\n",
    "# Ffilled labels\n",
    "plot_labels_line(df_profit_cl['px'][1626046-20000:1626046], df_profit_cl['ffilled_labels'][1626046-20000:1626046], title='Fwd Filled Cleaned')"
   ]
  },
  {
   "source": [
    "## Labels Optimization\n",
    "<br />\n",
    "<br />\n",
    "### Brute force grid search\n",
    "#### single process"
   ],
   "cell_type": "markdown",
   "metadata": {}
  },
  {
   "cell_type": "code",
   "execution_count": null,
   "metadata": {},
   "outputs": [],
   "source": [
    "alphas_range = 0#np.arange(0,0.04,1/1000)\n",
    "k_plus_range = np.arange(1,200,1)\n",
    "k_minus_range = np.arange(1,200,1)\n",
    "\n",
    "mesh = np.array(np.meshgrid(alphas_range, k_plus_range, k_minus_range))\n",
    "combinations = mesh.T.reshape(-1, 3)\n",
    "print(combinations.shape)"
   ]
  },
  {
   "cell_type": "code",
   "execution_count": null,
   "metadata": {},
   "outputs": [],
   "source": [
    "%%time\n",
    "min_profit = 0.0020\n",
    "plotting = False\n",
    "gs_labels = []\n",
    "\n",
    "for comb in combinations:    \n",
    "    alpha = comb[0]\n",
    "    k_plus = int(comb[1])\n",
    "    k_minus = int(comb[2])\n",
    "    labels = get_labels(mid_px_test_dyn, k_plus, k_minus, alpha, long_only=False)\n",
    "    profit = get_strategy_pnl(px_ts, labels, trading_fee=trading_fee, min_profit=min_profit, plotting=plotting, return_df=False)\n",
    "    #gs_labels = np.vstack((gs_labels, np.array([alpha, k_plus, k_minus, profit])))\n",
    "    gs_labels.append(np.array([alpha, k_plus, k_minus, profit]))"
   ]
  },
  {
   "cell_type": "code",
   "execution_count": null,
   "metadata": {},
   "outputs": [],
   "source": [
    "gs_df = pd.DataFrame(gs_labels, columns=['alpha', 'k_plus', 'k_minus', 'profit'])"
   ]
  },
  {
   "cell_type": "code",
   "execution_count": null,
   "metadata": {},
   "outputs": [],
   "source": [
    "# prepare data for surface plot\n",
    "gs_df_0 = gs_df[gs_df['alpha']==0]\n",
    "gs_df_0_pivot = gs_df_0.pivot(values='profit', index='k_minus', columns='k_plus')\n",
    "\n",
    "gs_df_039 = gs_df[gs_df['alpha']==0.039]\n",
    "gs_df_039_pivot = gs_df_039.pivot(values='profit', index='k_minus', columns='k_plus')"
   ]
  },
  {
   "cell_type": "code",
   "execution_count": null,
   "metadata": {},
   "outputs": [],
   "source": [
    "# 3d plot k_plus, k_minus and profit. One surfice shows a certain level of alpha\n",
    "\n",
    "fig = go.Figure(data=[go.Surface(z=gs_df_0_pivot.values, x=gs_df_0_pivot.columns.values, y=gs_df_0_pivot.index.values, name='alpha=0'),\n",
    "go.Surface(z=gs_df_039_pivot.values, x=gs_df_039_pivot.index.values, y=gs_df_039_pivot.columns.values,  name='alpha=0.039',showscale=False)])\n",
    "\n",
    "\n",
    "fig.update_layout(title='<b>Labels profitability</b>', autosize=False,\n",
    "                  width=1000, height=600, \n",
    "                  scene=dict(\n",
    "                    xaxis_title='k_minus',\n",
    "                    yaxis_title='k plus',\n",
    "                    zaxis_title='profit'),\n",
    "                  margin=dict(l=35, r=30, b=25, t=60))\n",
    "\n",
    "fig.show()"
   ]
  },
  {
   "source": [
    "#### multi-process"
   ],
   "cell_type": "markdown",
   "metadata": {}
  },
  {
   "cell_type": "code",
   "execution_count": null,
   "metadata": {},
   "outputs": [],
   "source": [
    "def opt_func(alpha, k_plus, k_minus, gs_labels):\n",
    "    # pass gs labels as shared list from the multiprocess manager\n",
    "    labels = get_labels(mid_px_test_dyn, int(k_plus), int(k_minus), alpha, long_only=False)\n",
    "    profit = get_strategy_pnl(px_ts, labels, trading_fee=0.000712, min_profit=0.0020, plotting=False, return_df=False)\n",
    "    gs_labels.append(np.array([alpha, k_plus, k_minus, profit]))\n",
    "    return profit"
   ]
  },
  {
   "cell_type": "code",
   "execution_count": null,
   "metadata": {},
   "outputs": [],
   "source": [
    "manager = multiprocessing.Manager()\n",
    "gs_labels = manager.list()\n",
    "\n",
    "inputs = list(map(list, combinations))\n",
    "inputs_l = [inputs[x] + [gs_labels] for x in range(len(inputs))] # append proxy list \"column\" wise\n",
    "\n",
    "with multiprocessing.Pool(processes=12) as p:\n",
    "    res = p.starmap(opt_func, inputs_l)\n",
    "    res = list(res)\n",
    "    p.close()   \n",
    "    p.join()\n",
    "print(res)"
   ]
  },
  {
   "cell_type": "code",
   "execution_count": null,
   "metadata": {},
   "outputs": [],
   "source": [
    "gs_df = pd.DataFrame([label for label in gs_labels], columns=['alpha', 'k_plus', 'k_minus', 'profit'])"
   ]
  },
  {
   "source": [
    "#### Bayesian opt"
   ],
   "cell_type": "markdown",
   "metadata": {}
  },
  {
   "cell_type": "code",
   "execution_count": null,
   "metadata": {},
   "outputs": [],
   "source": [
    "from bayes_opt import BayesianOptimization\n",
    "from bayes_opt import UtilityFunction"
   ]
  },
  {
   "cell_type": "code",
   "execution_count": null,
   "metadata": {},
   "outputs": [],
   "source": [
    "def bay_opt_func(k_plus, k_minus, alpha):\n",
    "    labels = get_labels(mid_px_test_dyn, int(k_plus), int(k_minus), alpha, long_only=False)\n",
    "    profit = get_strategy_pnl(px_ts, labels, trading_fee=0.000712, min_profit=0.0020, plotting=False, return_df=False)\n",
    "    return profit"
   ]
  },
  {
   "cell_type": "code",
   "execution_count": null,
   "metadata": {},
   "outputs": [],
   "source": [
    "label_opt = BayesianOptimization(\n",
    "    f=bay_opt_func,\n",
    "    pbounds={\"k_plus\": (1, 200), \"k_minus\": (1, 200), \"alpha\": (0, 0.5)},\n",
    "    verbose=2,\n",
    "    random_state=7,\n",
    ")"
   ]
  },
  {
   "cell_type": "code",
   "execution_count": null,
   "metadata": {},
   "outputs": [],
   "source": [
    "label_opt.maximize(\n",
    "    init_points=20,\n",
    "    n_iter=3,\n",
    ")"
   ]
  }
 ]
}